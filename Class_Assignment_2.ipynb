{
 "cells": [
  {
   "cell_type": "markdown",
   "id": "23d61996",
   "metadata": {},
   "source": [
    "1. What are the two values of the Boolean data type? How do you write them?"
   ]
  },
  {
   "cell_type": "markdown",
   "id": "cd21c7f8",
   "metadata": {},
   "source": [
    "Ans:\n",
    "\n",
    "The two values of the Boolean data type is  True and False.\n",
    "\n",
    "This boolean datatypes are written as \"True\" and \"False\" with first letter capitalized"
   ]
  },
  {
   "cell_type": "markdown",
   "id": "237293a4",
   "metadata": {},
   "source": [
    "2. What are the three different types of Boolean operators?"
   ]
  },
  {
   "cell_type": "markdown",
   "id": "131c3118",
   "metadata": {},
   "source": [
    "Ans: The three different types of Boolean operators \n",
    "\n",
    "AND operator (and): The 'AND' operator returns True if and only if both of its operands are True or else, it returns False.\n",
    "\n",
    "OR operator (or): The 'OR' operator returns True if at least one of its operands is True. If both operands are False, it returns False.\n",
    "\n",
    "NOT operator (not): The 'NOT' operator is a unary operator that returns the opposite of its operand. If the operand is True, it returns False, and if the operand is False, it returns True."
   ]
  },
  {
   "cell_type": "markdown",
   "id": "548a1b8c",
   "metadata": {},
   "source": [
    "3. Make a list of each Boolean operator's truth tables (i.e. every possible combination of Boolean values for the operator and what it evaluate )."
   ]
  },
  {
   "cell_type": "markdown",
   "id": "6d94fded",
   "metadata": {},
   "source": [
    "Ans: \n",
    "\n",
    "<span style=\"color:red\">Please double click the answer to see the tables<span>\n",
    "AND operator(and)\n",
    "\n",
    "Input1\tInput2\tResult\n",
    "True\tTrue\tTrue\n",
    "True\tFalse\tFalse\n",
    "False\tTrue\tFalse\n",
    "False\tFalse\tFalse\n",
    "\n",
    "OR Operator (or)\n",
    "\n",
    "Input1\tInput2\tResult\n",
    "True\tTrue\tTrue\n",
    "True\tFalse\tTrue\n",
    "False\tTrue\tTrue\n",
    "False\tFalse\tFalse\n",
    "\n",
    "NOT Operator (not)\n",
    "\n",
    "input\tResult\n",
    "True\tFalse\n",
    "False\tTrue\n"
   ]
  },
  {
   "cell_type": "markdown",
   "id": "182baefd",
   "metadata": {},
   "source": [
    "4. What are the values of the following expressions?\n",
    "\n",
    "\n",
    "(5 > 4) and (3 == 5)\n",
    "\n",
    "\n",
    "not (5 > 4)\n",
    "\n",
    "\n",
    "(5 > 4) or (3 == 5)\n",
    "\n",
    "\n",
    "not ((5 > 4) or (3 == 5))\n",
    "\n",
    "\n",
    "(True and True) and (True == False)\n",
    "\n",
    "\n",
    "(not False) or (not True)\n"
   ]
  },
  {
   "cell_type": "code",
   "execution_count": 1,
   "id": "fa5fa43f",
   "metadata": {},
   "outputs": [
    {
     "data": {
      "text/plain": [
       "False"
      ]
     },
     "execution_count": 1,
     "metadata": {},
     "output_type": "execute_result"
    }
   ],
   "source": [
    "(5>4) and (3==5)"
   ]
  },
  {
   "cell_type": "code",
   "execution_count": 2,
   "id": "9770c70d",
   "metadata": {},
   "outputs": [
    {
     "data": {
      "text/plain": [
       "False"
      ]
     },
     "execution_count": 2,
     "metadata": {},
     "output_type": "execute_result"
    }
   ],
   "source": [
    "not (5 > 4)"
   ]
  },
  {
   "cell_type": "code",
   "execution_count": 3,
   "id": "cf9dba03",
   "metadata": {},
   "outputs": [
    {
     "data": {
      "text/plain": [
       "True"
      ]
     },
     "execution_count": 3,
     "metadata": {},
     "output_type": "execute_result"
    }
   ],
   "source": [
    "(5 > 4) or (3 == 5)"
   ]
  },
  {
   "cell_type": "code",
   "execution_count": 4,
   "id": "329dd7b7",
   "metadata": {},
   "outputs": [
    {
     "data": {
      "text/plain": [
       "False"
      ]
     },
     "execution_count": 4,
     "metadata": {},
     "output_type": "execute_result"
    }
   ],
   "source": [
    "(True and True) and (True == False)"
   ]
  },
  {
   "cell_type": "code",
   "execution_count": 5,
   "id": "d82ff0fc",
   "metadata": {},
   "outputs": [
    {
     "data": {
      "text/plain": [
       "True"
      ]
     },
     "execution_count": 5,
     "metadata": {},
     "output_type": "execute_result"
    }
   ],
   "source": [
    "(not False) or (not True)"
   ]
  },
  {
   "cell_type": "markdown",
   "id": "2533b56b",
   "metadata": {},
   "source": [
    "5. What are the six comparison operators?"
   ]
  },
  {
   "cell_type": "markdown",
   "id": "c4a5934d",
   "metadata": {},
   "source": [
    "Ans: The six comparison operators are:\n",
    "\n",
    "Equal to (==): Returns True if both operands have the same value.\n",
    "\n",
    "Not equal to (!=): Returns True if the operands have different values.\n",
    "\n",
    "Greater than (>): Returns True if the left operand is greater than the right operand.\n",
    "\n",
    "Less than (<): Returns True if the left operand is less than the right operand.\n",
    "\n",
    "Greater than or equal to (>=): Returns True if the left operand is greater than or equal to the right operand.\n",
    "\n",
    "Less than or equal to (<=): Returns True if the left operand is less than or equal to the right operand."
   ]
  },
  {
   "cell_type": "markdown",
   "id": "89b41bc6",
   "metadata": {},
   "source": [
    "6. How do you tell the difference between the equal to and assignment operators? Describe a condition and when you would use one."
   ]
  },
  {
   "cell_type": "markdown",
   "id": "80fdf359",
   "metadata": {},
   "source": [
    "Ans:\n",
    "\n",
    "The equal to operator (==) is a comparison operator that is used to check if two values are equal to each other. On the other hand, the assignment operator (=) is used to assign a value to a variable.\n",
    "\n",
    "example is given below:"
   ]
  },
  {
   "cell_type": "code",
   "execution_count": 6,
   "id": "02c031e5",
   "metadata": {},
   "outputs": [
    {
     "name": "stdout",
     "output_type": "stream",
     "text": [
      "x is equal to 5\n"
     ]
    }
   ],
   "source": [
    "# Here i am assigning a value 5 to a variable named as x and also comparing the value of x with 5\n",
    "x = 5\n",
    "if x == 5:\n",
    "    print(\"x is equal to 5\")"
   ]
  },
  {
   "cell_type": "markdown",
   "id": "5aa7c0f1",
   "metadata": {},
   "source": [
    "7. Identify the three blocks in this code:\n",
    "spam = 0\n",
    "if spam == 10:\n",
    "print('eggs')\n",
    "if spam > 5:\n",
    "print('bacon')\n",
    "else:\n",
    "print('ham')\n",
    "print('spam')\n",
    "print('spam')"
   ]
  },
  {
   "cell_type": "markdown",
   "id": "79deabdd",
   "metadata": {},
   "source": [
    "Ans:\n",
    "\n",
    "Block 1:"
   ]
  },
  {
   "cell_type": "code",
   "execution_count": null,
   "id": "2a410dae",
   "metadata": {},
   "outputs": [],
   "source": [
    "spam = 0\n",
    "if spam == 10:\n",
    "    print('eggs')"
   ]
  },
  {
   "cell_type": "markdown",
   "id": "2de690f2",
   "metadata": {},
   "source": [
    "Block 2:"
   ]
  },
  {
   "cell_type": "code",
   "execution_count": null,
   "id": "50b29318",
   "metadata": {},
   "outputs": [],
   "source": [
    "if spam > 5:\n",
    "    print('bacon')"
   ]
  },
  {
   "cell_type": "markdown",
   "id": "28f8b429",
   "metadata": {},
   "source": [
    "Block 3:"
   ]
  },
  {
   "cell_type": "code",
   "execution_count": null,
   "id": "4606d9d8",
   "metadata": {},
   "outputs": [],
   "source": [
    "else:\n",
    "    print('ham')\n",
    "    print('spam')\n",
    "    print('spam')"
   ]
  },
  {
   "cell_type": "markdown",
   "id": "936d2176",
   "metadata": {},
   "source": [
    "8. Write code that prints Hello if 1 is stored in spam, prints Howdy if 2 is stored in spam, and prints Greetings! if anything else is stored in spam."
   ]
  },
  {
   "cell_type": "code",
   "execution_count": 8,
   "id": "53b5f5da",
   "metadata": {},
   "outputs": [
    {
     "name": "stdout",
     "output_type": "stream",
     "text": [
      "enter the value of spam 1\n",
      "Hello\n"
     ]
    }
   ],
   "source": [
    "spam=int(input(\"enter the value of spam \"))\n",
    "if spam == 1:\n",
    "    print('Hello')\n",
    "elif spam == 2:\n",
    "    print('Howdy')\n",
    "else:\n",
    "    print('Greetings!')\n"
   ]
  },
  {
   "cell_type": "code",
   "execution_count": 9,
   "id": "2bff02fa",
   "metadata": {},
   "outputs": [
    {
     "name": "stdout",
     "output_type": "stream",
     "text": [
      "enter the value of spam 2\n",
      "Howdy\n"
     ]
    }
   ],
   "source": [
    "spam=int(input(\"enter the value of spam \"))\n",
    "if spam == 1:\n",
    "    print('Hello')\n",
    "elif spam == 2:\n",
    "    print('Howdy')\n",
    "else:\n",
    "    print('Greetings!')"
   ]
  },
  {
   "cell_type": "code",
   "execution_count": 10,
   "id": "0443712f",
   "metadata": {},
   "outputs": [
    {
     "name": "stdout",
     "output_type": "stream",
     "text": [
      "enter the value of spam 6\n",
      "Greetings!\n"
     ]
    }
   ],
   "source": [
    "spam=int(input(\"enter the value of spam \"))\n",
    "if spam == 1:\n",
    "    print('Hello')\n",
    "elif spam == 2:\n",
    "    print('Howdy')\n",
    "else:\n",
    "    print('Greetings!')"
   ]
  },
  {
   "cell_type": "code",
   "execution_count": null,
   "id": "7809ee85",
   "metadata": {},
   "outputs": [],
   "source": []
  }
 ],
 "metadata": {
  "kernelspec": {
   "display_name": "Python 3 (ipykernel)",
   "language": "python",
   "name": "python3"
  },
  "language_info": {
   "codemirror_mode": {
    "name": "ipython",
    "version": 3
   },
   "file_extension": ".py",
   "mimetype": "text/x-python",
   "name": "python",
   "nbconvert_exporter": "python",
   "pygments_lexer": "ipython3",
   "version": "3.9.12"
  }
 },
 "nbformat": 4,
 "nbformat_minor": 5
}
