{
  "nbformat": 4,
  "nbformat_minor": 0,
  "metadata": {
    "colab": {
      "provenance": [],
      "collapsed_sections": []
    },
    "kernelspec": {
      "name": "python3",
      "display_name": "Python 3"
    },
    "language_info": {
      "name": "python"
    }
  },
  "cells": [
    {
      "cell_type": "markdown",
      "source": [
        "1. In the below elements which of them are values or an expression? eg:- values can be integer or string and expressions will be mathematical operators.\n",
        "*, 'hello'   ,    -87.8   ,   -   ,    /   ,  +  , 6\n"
      ],
      "metadata": {
        "id": "2i3Vf0rbMRkS"
      }
    },
    {
      "cell_type": "markdown",
      "source": [
        "Ans \n",
        "\n",
        "\n",
        "Values :'hello'   ,-87.8   ,   6\n",
        "\n",
        "\n",
        "\n",
        "Expression : *,/,+,-"
      ],
      "metadata": {
        "id": "pP1z-tFINK-r"
      }
    },
    {
      "cell_type": "markdown",
      "source": [
        "2. What is the difference between string and variable?"
      ],
      "metadata": {
        "id": "yPUlxeIiNwI4"
      }
    },
    {
      "cell_type": "markdown",
      "source": [
        "A variable is a place for storing the information like an empty box and string is a special type of datatype of sequence of characters to store the information in a variable. So to store a string also we need a variable.\n",
        "\n",
        "Some special properties regarding variables are \n",
        "1. Variable names should start with alphabets\n",
        "2. Variable names should not contain any special characters like ^ % $ ! @ # ^ & * ( )\n",
        "3. Variable names can contain numbers but you can't start with numbers"
      ],
      "metadata": {
        "id": "cHlz6voeNzwI"
      }
    },
    {
      "cell_type": "markdown",
      "source": [
        "3. Describe three different data types."
      ],
      "metadata": {
        "id": "wjlywbmGPgxo"
      }
    },
    {
      "cell_type": "markdown",
      "source": [
        "The three different datatypes are:\n",
        "\n",
        "\n",
        "1. Integer(int): This type of datatype contains integers only without fraction or decimal points. eg : 1,2,3,-4,-90 etc\n",
        "2. Float : This type of datatype contains real numbers with decimal points only\n",
        "eg: 3.44,4.56,-9.76 etc\n",
        "3. Strings(str) : This type of datatypes are used for representing unicode characters, it is a collection of one or more characters put in a single quote, double quote or tripple qoute. eg : \"Chandra\"\n"
      ],
      "metadata": {
        "id": "6kgAgokwPkMu"
      }
    },
    {
      "cell_type": "markdown",
      "source": [
        "4. What is an expression made up of? What do all expressions do?"
      ],
      "metadata": {
        "id": "RnBMhzQLaMyI"
      }
    },
    {
      "cell_type": "markdown",
      "source": [
        "Expressions are made up of operators or operands .\n",
        "These expressions are used to produce some value or result after being interpreted by the python interpreter."
      ],
      "metadata": {
        "id": "kRwK37dTaP7w"
      }
    },
    {
      "cell_type": "markdown",
      "source": [
        "5. This assignment statements, like spam = 10. What is the difference between an expression and a statement?"
      ],
      "metadata": {
        "id": "2u4meuXCbFRw"
      }
    },
    {
      "cell_type": "markdown",
      "source": [
        "Statements are piece of codes that executes a specific action for completing the task assigned to the computer .\n",
        "But Expression are piece of codes that certainly evaluates a value\n",
        "\n",
        "\n",
        "In the above example\n",
        "\n",
        "\n",
        "spam=10\n",
        "\n",
        "it is a statement that assigns a value 10 to the variable spam.\n",
        "But \"=\" is an expression that certainly evaluates a value by assigning 10 to spam"
      ],
      "metadata": {
        "id": "wOHq6Op4bIV4"
      }
    },
    {
      "cell_type": "markdown",
      "source": [
        "6. After running the following code, what does the variable bacon contain?\n",
        "bacon = 22\n",
        "bacon + 1\n"
      ],
      "metadata": {
        "id": "cXjnv9L3dJFP"
      }
    },
    {
      "cell_type": "markdown",
      "source": [
        "bacon=23"
      ],
      "metadata": {
        "id": "FPM35jrydNZ3"
      }
    },
    {
      "cell_type": "code",
      "source": [
        "bacon=22\n",
        "bacon+1"
      ],
      "metadata": {
        "colab": {
          "base_uri": "https://localhost:8080/"
        },
        "id": "ZPPeXsRngSPC",
        "outputId": "2b703816-1136-4b60-d338-eeae89247143"
      },
      "execution_count": 1,
      "outputs": [
        {
          "output_type": "execute_result",
          "data": {
            "text/plain": [
              "23"
            ]
          },
          "metadata": {},
          "execution_count": 1
        }
      ]
    },
    {
      "cell_type": "markdown",
      "source": [
        "7. What should the values of the following two terms be?\n",
        "\n",
        "\n",
        "'spam' + 'spamspam'\n",
        "\n",
        "\n",
        "'spam' * 3\n"
      ],
      "metadata": {
        "id": "55IB9jfjgRYJ"
      }
    },
    {
      "cell_type": "markdown",
      "source": [
        "ans\n",
        "\n",
        "'spam' + 'spamspam'='spamspamspam'\n",
        "\n",
        "\n",
        "'spam'*3='spamspamspam'"
      ],
      "metadata": {
        "id": "cf_SLrm1gzH3"
      }
    },
    {
      "cell_type": "code",
      "execution_count": 2,
      "metadata": {
        "colab": {
          "base_uri": "https://localhost:8080/",
          "height": 36
        },
        "id": "x0Y7tdfYMMDP",
        "outputId": "b49f075b-5761-4136-be54-b63e46c01212"
      },
      "outputs": [
        {
          "output_type": "execute_result",
          "data": {
            "text/plain": [
              "'spamspamspam'"
            ],
            "application/vnd.google.colaboratory.intrinsic+json": {
              "type": "string"
            }
          },
          "metadata": {},
          "execution_count": 2
        }
      ],
      "source": [
        "'spam'+'spamspam'"
      ]
    },
    {
      "cell_type": "code",
      "source": [
        "'spam'*3"
      ],
      "metadata": {
        "colab": {
          "base_uri": "https://localhost:8080/",
          "height": 36
        },
        "id": "QHtDflHvhCjt",
        "outputId": "48c69e4e-3205-4c8d-8379-0e7dc9f3494f"
      },
      "execution_count": 3,
      "outputs": [
        {
          "output_type": "execute_result",
          "data": {
            "text/plain": [
              "'spamspamspam'"
            ],
            "application/vnd.google.colaboratory.intrinsic+json": {
              "type": "string"
            }
          },
          "metadata": {},
          "execution_count": 3
        }
      ]
    },
    {
      "cell_type": "markdown",
      "source": [
        "8. Why is eggs a valid variable name while 100 is invalid?"
      ],
      "metadata": {
        "id": "aOBj_nlYhMbO"
      }
    },
    {
      "cell_type": "markdown",
      "source": [
        "Ans : \n",
        "\n",
        "As i have already discussed in the properties of variable that a Variable names can contain numbers but you can't start with numbers.\n",
        "\n",
        "So eggs is a valid variable name as it consist of alphabets\n",
        "and variable name 100 starts with a number or its a complete number, so it can't be used as a variable"
      ],
      "metadata": {
        "id": "NH3YFFF-hR_2"
      }
    },
    {
      "cell_type": "markdown",
      "source": [
        "9. What three functions can be used to get the integer, floating-point number, or string version of a value?"
      ],
      "metadata": {
        "id": "_PcYKgbFh2jv"
      }
    },
    {
      "cell_type": "markdown",
      "source": [
        "Ans : \n",
        "\n",
        "To get integer int(value) is used\n",
        "\n",
        "To get floating-point number float(value) is used\n",
        "\n",
        "To get string version of a value str(value) is used"
      ],
      "metadata": {
        "id": "Iyt3g8QVh6vH"
      }
    },
    {
      "cell_type": "markdown",
      "source": [
        "10. Why does this expression cause an error? How can you fix it?\n",
        "'I have eaten ' + 99 + ' burritos.'\n"
      ],
      "metadata": {
        "id": "soL5qXDEiZtv"
      }
    },
    {
      "cell_type": "markdown",
      "source": [
        "Ans: \n",
        "\n",
        "Concatenation between integers and string value is not possible.\n",
        "\n",
        "As we can see in the above expression 99 is an integer and 'I have eaten' and 'burritos' are strings so this expression will through a Type error."
      ],
      "metadata": {
        "id": "h-k7DzOpiaun"
      }
    },
    {
      "cell_type": "code",
      "source": [
        " 'I have eaten ' + 99 + ' burritos'"
      ],
      "metadata": {
        "colab": {
          "base_uri": "https://localhost:8080/",
          "height": 165
        },
        "id": "eIHz6vYmi-5O",
        "outputId": "2d3cb901-5a1c-4ddb-c3e1-bd5f5cb0b9ee"
      },
      "execution_count": 4,
      "outputs": [
        {
          "output_type": "error",
          "ename": "TypeError",
          "evalue": "ignored",
          "traceback": [
            "\u001b[0;31m---------------------------------------------------------------------------\u001b[0m",
            "\u001b[0;31mTypeError\u001b[0m                                 Traceback (most recent call last)",
            "\u001b[0;32m<ipython-input-4-1fad7467ed84>\u001b[0m in \u001b[0;36m<module>\u001b[0;34m\u001b[0m\n\u001b[0;32m----> 1\u001b[0;31m \u001b[0;34m'I have eaten '\u001b[0m \u001b[0;34m+\u001b[0m \u001b[0;36m99\u001b[0m \u001b[0;34m+\u001b[0m \u001b[0;34m' burritos'\u001b[0m\u001b[0;34m\u001b[0m\u001b[0;34m\u001b[0m\u001b[0m\n\u001b[0m",
            "\u001b[0;31mTypeError\u001b[0m: can only concatenate str (not \"int\") to str"
          ]
        }
      ]
    },
    {
      "cell_type": "markdown",
      "source": [
        "To fix this we have to make the int value 99 to string value using \"\" or ''"
      ],
      "metadata": {
        "id": "itCKeJRljGD_"
      }
    },
    {
      "cell_type": "code",
      "source": [
        " 'I have eaten ' + '99' + ' burritos'"
      ],
      "metadata": {
        "colab": {
          "base_uri": "https://localhost:8080/",
          "height": 36
        },
        "id": "WMznd37ihFZc",
        "outputId": "0f619026-2df2-4af6-ac33-52319e7bc520"
      },
      "execution_count": 5,
      "outputs": [
        {
          "output_type": "execute_result",
          "data": {
            "text/plain": [
              "'I have eaten 99 burritos'"
            ],
            "application/vnd.google.colaboratory.intrinsic+json": {
              "type": "string"
            }
          },
          "metadata": {},
          "execution_count": 5
        }
      ]
    },
    {
      "cell_type": "code",
      "source": [],
      "metadata": {
        "id": "Vvp3EOHkjQpy"
      },
      "execution_count": null,
      "outputs": []
    }
  ]
}