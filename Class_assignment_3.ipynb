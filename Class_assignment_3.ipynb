{
 "cells": [
  {
   "cell_type": "markdown",
   "id": "7d39ca33",
   "metadata": {},
   "source": [
    "1. Why are functions advantageous to have in your programs?"
   ]
  },
  {
   "cell_type": "markdown",
   "id": "934203c2",
   "metadata": {},
   "source": [
    "Ans: Functions make the code more organized, easier to read and maintain. Except these qualities use of functions in programs has several advantages such as :\n",
    "\n",
    "1. Abstraction: Functions allows to hide the implementation details of a particular task which makes it easier to use\n",
    "2. Modularity: Functions break down complex programs into smaller, more manageable pieces\n",
    "3. Reusability: Functions allow us to write code once and reuse it multiple times throughout the program."
   ]
  },
  {
   "cell_type": "markdown",
   "id": "618a0808",
   "metadata": {},
   "source": [
    "2. When does the code in a function run: when it's specified or when it's called?"
   ]
  },
  {
   "cell_type": "markdown",
   "id": "41491d98",
   "metadata": {},
   "source": [
    "Ans:\n",
    "The code in a function runs when the function is called, not when it's specified.\n",
    "\n",
    "When we define a function in the code, we are essentially creating a new block of code that will be executed when the function is called. This block of code is not executed until the function is called.\n",
    "\n",
    "Once the function is called, the code inside the function will execute, and any variables or values passed into the function will be processed according to the logic inside the function. Once the function has completed its execution, it will return any values or results back to the calling code."
   ]
  },
  {
   "cell_type": "markdown",
   "id": "8a27dfc3",
   "metadata": {},
   "source": [
    "3. What statement creates a function?"
   ]
  },
  {
   "cell_type": "markdown",
   "id": "b0645a9d",
   "metadata": {},
   "source": [
    "Ans:\n",
    "The 'def' statement is used to create a function."
   ]
  },
  {
   "cell_type": "markdown",
   "id": "09177d1b",
   "metadata": {},
   "source": [
    "4. What is the difference between a function and a function call?"
   ]
  },
  {
   "cell_type": "markdown",
   "id": "52b705ac",
   "metadata": {},
   "source": [
    "Ans:\n",
    "A function is a block of code that performs a specific task and may take inputs and return outputs.\n",
    "\n",
    "On the other hand, a function call is the code used to invoke or execute a function that has been defined. It provides the arguments or inputs (if any) required by the function, and then the function performs its task and may return an output."
   ]
  },
  {
   "cell_type": "markdown",
   "id": "554bd036",
   "metadata": {},
   "source": [
    "5. How many global scopes are there in a Python program? How many local scopes?"
   ]
  },
  {
   "cell_type": "markdown",
   "id": "acacfde5",
   "metadata": {},
   "source": [
    "Ans:\n",
    "In a Python program, there is one global scope, which is created when the program starts executing. Whenever a function is called, a new local scope is created for that function. So the number of local scopes depends on how many functions are called during the execution of the program. Each function call creates a new local scope, which is destroyed when the function returns."
   ]
  },
  {
   "cell_type": "markdown",
   "id": "70825a73",
   "metadata": {},
   "source": [
    "6. What happens to variables in a local scope when the function call returns?"
   ]
  },
  {
   "cell_type": "markdown",
   "id": "8b9fd9eb",
   "metadata": {},
   "source": [
    "Ans:\n",
    "When a function call returns, the local scope is destroyed, and all the variables in that scope are forgotten. This means that any variables that were defined inside the function will no longer be accessible from outside the function. "
   ]
  },
  {
   "cell_type": "markdown",
   "id": "97a1e174",
   "metadata": {},
   "source": [
    "7. What is the concept of a return value? Is it possible to have a return value in an expression?"
   ]
  },
  {
   "cell_type": "markdown",
   "id": "c62e73ba",
   "metadata": {},
   "source": [
    "Ans:\n",
    "In Python, a return value is the value that a function returns after completing its task. It is the output of the function that can be used in the calling code.\n",
    "\n",
    "It is possible to have a return value in an expression.\n",
    "An expression is any valid unit of code that can be evaluated to a value. When a function returns a value, that value can be used in expressions by assigning the return value of a function to a variable or use it in a mathematical expression."
   ]
  },
  {
   "cell_type": "markdown",
   "id": "569273f4",
   "metadata": {},
   "source": [
    "8. If a function does not have a return statement, what is the return value of a call to that function?"
   ]
  },
  {
   "cell_type": "markdown",
   "id": "79ea6075",
   "metadata": {},
   "source": [
    "Ans:\n",
    "\n",
    "If a function does not have a return statement, the return value of a call to that function is None."
   ]
  },
  {
   "cell_type": "markdown",
   "id": "57895243",
   "metadata": {},
   "source": [
    "9. How do you make a function variable refer to the global variable?"
   ]
  },
  {
   "cell_type": "markdown",
   "id": "25306b79",
   "metadata": {},
   "source": [
    "Ans:\n",
    "\n",
    "To make a function variable refer to the global variable,the 'global' keyword can be used inside the function to indicate that the variable is a global variable rather than a local variable."
   ]
  },
  {
   "cell_type": "markdown",
   "id": "87a97e05",
   "metadata": {},
   "source": [
    "10. What is the data type of None?"
   ]
  },
  {
   "cell_type": "markdown",
   "id": "6cb98435",
   "metadata": {},
   "source": [
    "Ans:\n",
    "\n",
    "The data type of None is NoneType."
   ]
  },
  {
   "cell_type": "markdown",
   "id": "fdf7cfd0",
   "metadata": {},
   "source": [
    "11. What does the sentence import areallyourpetsnamederic do?"
   ]
  },
  {
   "cell_type": "markdown",
   "id": "d35de9eb",
   "metadata": {},
   "source": [
    "Ans: \n",
    "The sentence import areallyourpetsnamederic attempts to import a Python module named areallyourpetsnamederic. If such a module exists and can be found in the Python path, it will be loaded and any functions, classes or other objects defined in the module will become available to the current Python program. If the module doesn't exist or cannot be found, a ModuleNotFoundError exception will be raised."
   ]
  },
  {
   "cell_type": "code",
   "execution_count": 1,
   "id": "cd6f4e0e",
   "metadata": {},
   "outputs": [
    {
     "ename": "ModuleNotFoundError",
     "evalue": "No module named 'areallyourpetsnamederic'",
     "output_type": "error",
     "traceback": [
      "\u001b[1;31m---------------------------------------------------------------------------\u001b[0m",
      "\u001b[1;31mModuleNotFoundError\u001b[0m                       Traceback (most recent call last)",
      "Input \u001b[1;32mIn [1]\u001b[0m, in \u001b[0;36m<cell line: 1>\u001b[1;34m()\u001b[0m\n\u001b[1;32m----> 1\u001b[0m \u001b[38;5;28;01mimport\u001b[39;00m \u001b[38;5;21;01mareallyourpetsnamederic\u001b[39;00m\n",
      "\u001b[1;31mModuleNotFoundError\u001b[0m: No module named 'areallyourpetsnamederic'"
     ]
    }
   ],
   "source": [
    "import areallyourpetsnamederic"
   ]
  },
  {
   "cell_type": "markdown",
   "id": "958c5ad2",
   "metadata": {},
   "source": [
    "12. If you had a bacon() feature in a spam module, what would you call it after importing spam?"
   ]
  },
  {
   "cell_type": "markdown",
   "id": "f385dd04",
   "metadata": {},
   "source": [
    "Ans:\n",
    "\n",
    "import spam\n",
    "spam.bacon()"
   ]
  },
  {
   "cell_type": "markdown",
   "id": "d9eb1b22",
   "metadata": {},
   "source": [
    "13. What can you do to save a programme from crashing if it encounters an error?"
   ]
  },
  {
   "cell_type": "markdown",
   "id": "cc188f78",
   "metadata": {},
   "source": [
    "Ans:\n",
    "\n",
    "Exception handling can be used to save a program from crashing if it encounters an error. By catching and handling exceptions, we can allow the program to continue running instead of crashing. In Python, we can use a try-except block to catch and handle exceptions."
   ]
  },
  {
   "cell_type": "markdown",
   "id": "cf10e46b",
   "metadata": {},
   "source": [
    "14. What is the purpose of the try clause? What is the purpose of the except clause?"
   ]
  },
  {
   "cell_type": "markdown",
   "id": "7da46306",
   "metadata": {},
   "source": [
    "Ans:\n",
    "\n",
    "The try clause is used to enclose a block of code that may raise an exception at runtime. The purpose of the try clause is to allow the program to attempt to execute the block of code and handle any exceptions that are raised.\n",
    "\n",
    "The except clause is used to handle the exception that is raised by the code in the try clause. The purpose of the except clause is to provide an alternative course of action when an exception is raised, such as printing an error message, logging the exception, or performing some other action to handle the error gracefully instead of crashing the program.\n",
    "    "
   ]
  }
 ],
 "metadata": {
  "kernelspec": {
   "display_name": "Python 3 (ipykernel)",
   "language": "python",
   "name": "python3"
  },
  "language_info": {
   "codemirror_mode": {
    "name": "ipython",
    "version": 3
   },
   "file_extension": ".py",
   "mimetype": "text/x-python",
   "name": "python",
   "nbconvert_exporter": "python",
   "pygments_lexer": "ipython3",
   "version": "3.9.12"
  }
 },
 "nbformat": 4,
 "nbformat_minor": 5
}
