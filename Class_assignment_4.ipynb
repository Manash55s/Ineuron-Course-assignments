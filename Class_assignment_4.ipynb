{
 "cells": [
  {
   "cell_type": "markdown",
   "id": "2b401674",
   "metadata": {},
   "source": [
    "1. What exactly is []?"
   ]
  },
  {
   "cell_type": "markdown",
   "id": "00237183",
   "metadata": {},
   "source": [
    "Ans:\n",
    "\n",
    "In Python, [] is an empty list, which is a collection of values. A list is a mutable sequence data type that can hold an ordered collection of objects, including other lists. An empty list is simply a list that does not contain any elements. It is represented by a pair of square brackets with nothing in between them, like so: []."
   ]
  },
  {
   "cell_type": "markdown",
   "id": "da51e8c8",
   "metadata": {},
   "source": [
    "2. In a list of values stored in a variable called spam, how would you assign the value 'hello' as the third value? (Assume [2,4,6,8,10] are in spam)"
   ]
  },
  {
   "cell_type": "code",
   "execution_count": 2,
   "id": "cd5ba790",
   "metadata": {},
   "outputs": [
    {
     "name": "stdout",
     "output_type": "stream",
     "text": [
      "[2, 4, 'hello', 8, 10]\n"
     ]
    }
   ],
   "source": [
    "spam=[2,4,6,8,10]\n",
    "spam[2]='hello'\n",
    "print(spam)"
   ]
  },
  {
   "cell_type": "markdown",
   "id": "f3a174c8",
   "metadata": {},
   "source": [
    "Let's pretend the spam includes the list ['a','b','c','d'] for the next three queries."
   ]
  },
  {
   "cell_type": "markdown",
   "id": "45f6c1e8",
   "metadata": {},
   "source": [
    "3. What is the value of spam[int(int('3'*2)/11)]  ?"
   ]
  },
  {
   "cell_type": "markdown",
   "id": "3659415e",
   "metadata": {},
   "source": [
    "Ans:\n",
    "\n",
    "The expression int('3'*2) evaluates to the string '33'. As in Python, the multiplication operator * also works on strings. When a string is multiplied by an integer n, the resulting string is the original string repeated n times.\n",
    "\n",
    "In the code '3'*2, the string '3' is multiplied by the integer 2, so the resulting string is '33'.\n",
    "\n",
    "which is then converted to an integer value by calling the int() function on it. This results in the integer value 33.\n",
    "\n",
    "The expression int('3'*2)/11 divides the integer value 33 by 11, resulting in the float value 3.0.\n",
    "\n",
    "The expression spam[int(int('3'*2)/11)] accesses the element at index 3 in the spam list, since int(int('3'*2)/11) evaluates to 3.\n",
    "\n",
    "Therefore, the code spam[int(int('3'*2)/11)] returns the value 'd'."
   ]
  },
  {
   "cell_type": "code",
   "execution_count": 3,
   "id": "d0fd3958",
   "metadata": {},
   "outputs": [
    {
     "data": {
      "text/plain": [
       "'d'"
      ]
     },
     "execution_count": 3,
     "metadata": {},
     "output_type": "execute_result"
    }
   ],
   "source": [
    "spam=['a','b','c','d']\n",
    "spam[int(int('3'*2)/11)] "
   ]
  },
  {
   "cell_type": "markdown",
   "id": "e732dcf2",
   "metadata": {},
   "source": [
    "4. What is the value of spam[-1]?"
   ]
  },
  {
   "cell_type": "markdown",
   "id": "f9aee35a",
   "metadata": {},
   "source": [
    "Ans:\n",
    "\n",
    "In Python, negative indexing allows you to access elements from the end of a list. The index -1 refers to the last element of the list, -2 refers to the second-last element, and so on.\n",
    "\n",
    "In the given code, spam[-1] is accessing the last element of the spam list, which is 'd'."
   ]
  },
  {
   "cell_type": "code",
   "execution_count": 4,
   "id": "fded538a",
   "metadata": {},
   "outputs": [
    {
     "data": {
      "text/plain": [
       "'d'"
      ]
     },
     "execution_count": 4,
     "metadata": {},
     "output_type": "execute_result"
    }
   ],
   "source": [
    "spam[-1]"
   ]
  },
  {
   "cell_type": "markdown",
   "id": "2c423042",
   "metadata": {},
   "source": [
    "5. What is the value of spam[:2]?"
   ]
  },
  {
   "cell_type": "markdown",
   "id": "220b8c8c",
   "metadata": {},
   "source": [
    "Ans:\n",
    "\n",
    "The slice notation [:2] in Python means to select all elements of a list up to (but not including) the element at index 2. In this case, spam is the list ['a', 'b', 'c', 'd'], so spam[:2] will return the first two elements of the list, which are ['a', 'b']."
   ]
  },
  {
   "cell_type": "code",
   "execution_count": 5,
   "id": "ed2eae4f",
   "metadata": {},
   "outputs": [
    {
     "data": {
      "text/plain": [
       "['a', 'b']"
      ]
     },
     "execution_count": 5,
     "metadata": {},
     "output_type": "execute_result"
    }
   ],
   "source": [
    "spam[:2]"
   ]
  },
  {
   "cell_type": "markdown",
   "id": "8b046c90",
   "metadata": {},
   "source": [
    "    Let's pretend bacon has the list [3.14, 'cat', 11, 'cat', True] for the next three questions."
   ]
  },
  {
   "cell_type": "markdown",
   "id": "057acf22",
   "metadata": {},
   "source": [
    "6. What is the value of bacon.index('cat')?"
   ]
  },
  {
   "cell_type": "markdown",
   "id": "d24c4ec5",
   "metadata": {},
   "source": [
    "Ans:\n",
    "\n",
    "he index method for a list in Python returns the first index at which a given element appears. In this case, the list bacon contains two occurrences of the string 'cat', at index 1 and index 3. However, the index method only returns the index of the first occurrence, which is 1. Therefore, bacon.index('cat') evaluates to 1."
   ]
  },
  {
   "cell_type": "code",
   "execution_count": 6,
   "id": "37127d51",
   "metadata": {},
   "outputs": [
    {
     "data": {
      "text/plain": [
       "1"
      ]
     },
     "execution_count": 6,
     "metadata": {},
     "output_type": "execute_result"
    }
   ],
   "source": [
    "bacon=[3.14, 'cat', 11, 'cat', True]\n",
    "bacon.index('cat')"
   ]
  },
  {
   "cell_type": "markdown",
   "id": "5d7f8c3c",
   "metadata": {},
   "source": [
    "7. How does bacon.append(99) change the look of the list value in bacon?"
   ]
  },
  {
   "cell_type": "markdown",
   "id": "02a0941f",
   "metadata": {},
   "source": [
    "Ans:\n",
    "The append() method adds the element passed as an argument to the end of the list.\n"
   ]
  },
  {
   "cell_type": "code",
   "execution_count": 7,
   "id": "b6a3a428",
   "metadata": {},
   "outputs": [
    {
     "name": "stdout",
     "output_type": "stream",
     "text": [
      "[3.14, 'cat', 11, 'cat', True, 99]\n"
     ]
    }
   ],
   "source": [
    "bacon.append(99)\n",
    "print(bacon)"
   ]
  },
  {
   "cell_type": "markdown",
   "id": "f68bcb5d",
   "metadata": {},
   "source": [
    "8. How does bacon.remove('cat') change the look of the list in bacon?"
   ]
  },
  {
   "cell_type": "markdown",
   "id": "d056c54a",
   "metadata": {},
   "source": [
    "Ans:\n",
    "The bacon.remove('cat') method removes the first occurrence of the value 'cat' from the list bacon. After this operation, the first and third elements of the list have been removed, and the list becomes [3.14, 11, 'cat', True].\n"
   ]
  },
  {
   "cell_type": "code",
   "execution_count": 9,
   "id": "ff5c337d",
   "metadata": {},
   "outputs": [
    {
     "name": "stdout",
     "output_type": "stream",
     "text": [
      "[3.14, 11, True, 99]\n"
     ]
    }
   ],
   "source": [
    "bacon.remove('cat')\n",
    "print(bacon)"
   ]
  },
  {
   "cell_type": "markdown",
   "id": "7185952f",
   "metadata": {},
   "source": [
    "9. What are the list concatenation and list replication operators?"
   ]
  },
  {
   "cell_type": "markdown",
   "id": "4b281f47",
   "metadata": {},
   "source": [
    "Ans:\n",
    "\n",
    "The list concatenation operator is the plus sign (+), which can be used to concatenate two or more lists into a single list. The list replication operator is the asterisk sign (*), which can be used to create a new list that repeats the items of the original list a certain number of times."
   ]
  },
  {
   "cell_type": "code",
   "execution_count": 10,
   "id": "ce4443de",
   "metadata": {},
   "outputs": [
    {
     "name": "stdout",
     "output_type": "stream",
     "text": [
      "[1, 2, 3, 4, 5, 6]\n"
     ]
    }
   ],
   "source": [
    "list1 = [1, 2, 3]\n",
    "list2 = [4, 5, 6]\n",
    "concatenated_list = list1 + list2\n",
    "print(concatenated_list)"
   ]
  },
  {
   "cell_type": "code",
   "execution_count": 11,
   "id": "6695ebaa",
   "metadata": {},
   "outputs": [
    {
     "name": "stdout",
     "output_type": "stream",
     "text": [
      "[1, 2, 3, 1, 2, 3, 1, 2, 3]\n"
     ]
    }
   ],
   "source": [
    "list1 = [1, 2, 3]\n",
    "replicated_list = list1 * 3\n",
    "print(replicated_list)"
   ]
  },
  {
   "cell_type": "markdown",
   "id": "0ee5a38a",
   "metadata": {},
   "source": [
    "10. What is difference between the list methods append() and insert()?"
   ]
  },
  {
   "cell_type": "markdown",
   "id": "4d885e76",
   "metadata": {},
   "source": [
    "Ans:\n",
    "\n",
    "The append() method is used to add an element at the end of the list. The syntax is list.append(element).\n",
    "\n",
    "The insert() method, on the other hand, is used to insert an element at a specific index in the list. The syntax is list.insert(index, element).\n",
    "\n",
    "So the main difference between these two methods is that append() always adds elements to the end of the list, while insert() can be used to insert elements at any index in the list."
   ]
  },
  {
   "cell_type": "markdown",
   "id": "d17867fd",
   "metadata": {},
   "source": [
    "11. What are the two methods for removing items from a list?"
   ]
  },
  {
   "cell_type": "markdown",
   "id": "92cf6c43",
   "metadata": {},
   "source": [
    "Ans:\n",
    "\n",
    "The two methods for removing items from a list are:\n",
    "\n",
    "remove(): This method removes the first occurrence of a given element from the list. It takes an argument that specifies the element to be removed.\n",
    "\n",
    "pop(): This method removes and returns an element from a list based on the index provided as an argument. If no index is provided, it removes and returns the last element in the list.\n"
   ]
  },
  {
   "cell_type": "markdown",
   "id": "0971bb7f",
   "metadata": {},
   "source": [
    "12. Describe how list values and string values are identical."
   ]
  },
  {
   "cell_type": "markdown",
   "id": "9238b13d",
   "metadata": {},
   "source": [
    "Ans:\n",
    "\n",
    "List values and string values are identical in the sense that they are both sequences of characters. Both can be indexed and sliced to access individual elements or substrings respectively. Additionally, both can use the len() function to determine their length."
   ]
  },
  {
   "cell_type": "markdown",
   "id": "4f27db2e",
   "metadata": {},
   "source": [
    "13. What's the difference between tuples and lists?"
   ]
  },
  {
   "cell_type": "markdown",
   "id": "bd61c903",
   "metadata": {},
   "source": [
    "Ans:\n",
    "\n",
    "The main difference between lists and tuples is that lists are mutable while tuples are immutable.It means that a list can be modified after it is created, and new elements can be added, removed or replaced using various methods such as append(), insert(), pop(), remove(), etc."
   ]
  },
  {
   "cell_type": "markdown",
   "id": "1516ef56",
   "metadata": {},
   "source": [
    "14. How do you type a tuple value that only contains the integer 42?"
   ]
  },
  {
   "cell_type": "markdown",
   "id": "20f20aa2",
   "metadata": {},
   "source": [
    "Ans:\n",
    "new_tuple=(42,)\n"
   ]
  },
  {
   "cell_type": "code",
   "execution_count": 12,
   "id": "accb4905",
   "metadata": {},
   "outputs": [
    {
     "name": "stdout",
     "output_type": "stream",
     "text": [
      "(42,)\n"
     ]
    }
   ],
   "source": [
    "new_tuple=(42,)\n",
    "print(new_tuple)"
   ]
  },
  {
   "cell_type": "markdown",
   "id": "a0db06fb",
   "metadata": {},
   "source": [
    "15. How do you get a list value's tuple form? How do you get a tuple value's list form?"
   ]
  },
  {
   "cell_type": "markdown",
   "id": "6601c7db",
   "metadata": {},
   "source": [
    "Ans:\n",
    "\n",
    "To get a list value's tuple form, we can use the tuple() function and pass the list as an argument as hown below:\n"
   ]
  },
  {
   "cell_type": "code",
   "execution_count": 13,
   "id": "a4132834",
   "metadata": {},
   "outputs": [
    {
     "name": "stdout",
     "output_type": "stream",
     "text": [
      "(1, 2, 3)\n"
     ]
    }
   ],
   "source": [
    "my_list = [1, 2, 3]\n",
    "my_tuple = tuple(my_list)\n",
    "print(my_tuple)"
   ]
  },
  {
   "cell_type": "markdown",
   "id": "e3641f03",
   "metadata": {},
   "source": [
    "To get a tuple value's list form, we can use the list() function and pass the tuple as an argument as shown below"
   ]
  },
  {
   "cell_type": "code",
   "execution_count": 14,
   "id": "0d92a715",
   "metadata": {},
   "outputs": [
    {
     "name": "stdout",
     "output_type": "stream",
     "text": [
      "[1, 2, 3]\n"
     ]
    }
   ],
   "source": [
    "my_tuple = (1, 2, 3)\n",
    "my_list = list(my_tuple)\n",
    "print(my_list)\n"
   ]
  },
  {
   "cell_type": "markdown",
   "id": "96f917b4",
   "metadata": {},
   "source": [
    "16. Variables that 'contain' list values are not necessarily lists themselves. Instead, what do they\n",
    "contain?"
   ]
  },
  {
   "cell_type": "markdown",
   "id": "3abbd530",
   "metadata": {},
   "source": [
    "Ans:\n",
    "\n",
    "Variables that \"contain\" list values in Python actually contain references to the list objects. When a variable is assigned to a list, it is actually assigned to a reference of that list in memory. This reference points to the memory location of the list object. So, the variable contains the memory address of the list object, rather than the list object itself. When the variable is accessed, the interpreter uses the reference to access the list object in memory."
   ]
  },
  {
   "cell_type": "markdown",
   "id": "45ddb448",
   "metadata": {},
   "source": [
    "17. How do you distinguish between copy.copy() and copy.deepcopy()?"
   ]
  },
  {
   "cell_type": "markdown",
   "id": "e320777c",
   "metadata": {},
   "source": [
    "Ans:\n",
    "The copy.copy() method creates a shallow copy of an object, meaning that it creates a new object with a new memory location, but the contents of the new object refer to the same memory location as the original object. This means that if the contents of the original object are modified, the contents of the new object will also be modified.\n",
    "\n",
    "On the other hand, copy.deepcopy() method creates a deep copy of an object, meaning that it creates a new object with a new memory location, and the contents of the new object are completely independent of the original object. This means that if the contents of the original object are modified, the contents of the new object will not be modified.\n"
   ]
  }
 ],
 "metadata": {
  "kernelspec": {
   "display_name": "Python 3 (ipykernel)",
   "language": "python",
   "name": "python3"
  },
  "language_info": {
   "codemirror_mode": {
    "name": "ipython",
    "version": 3
   },
   "file_extension": ".py",
   "mimetype": "text/x-python",
   "name": "python",
   "nbconvert_exporter": "python",
   "pygments_lexer": "ipython3",
   "version": "3.9.12"
  }
 },
 "nbformat": 4,
 "nbformat_minor": 5
}
