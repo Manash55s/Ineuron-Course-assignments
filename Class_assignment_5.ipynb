{
 "cells": [
  {
   "cell_type": "markdown",
   "id": "a917f751",
   "metadata": {},
   "source": [
    "1. What does an empty dictionary's code look like?"
   ]
  },
  {
   "cell_type": "markdown",
   "id": "25cd7055",
   "metadata": {},
   "source": [
    "Ans:\n",
    "\n",
    "An empty dictionary looks like this\n",
    "dict_empty={}"
   ]
  },
  {
   "cell_type": "markdown",
   "id": "9b33a133",
   "metadata": {},
   "source": [
    "2. What is the value of a dictionary value with the key 'foo' and the value 42?"
   ]
  },
  {
   "cell_type": "markdown",
   "id": "e174c77d",
   "metadata": {},
   "source": [
    "Ans\n",
    "The value of the dictionary is 42\n"
   ]
  },
  {
   "cell_type": "markdown",
   "id": "0cacdec8",
   "metadata": {},
   "source": [
    "3. What is the most significant distinction between a dictionary and a list?"
   ]
  },
  {
   "cell_type": "markdown",
   "id": "02ddfa79",
   "metadata": {},
   "source": [
    "Ans\n",
    "\n",
    "The most significant distinction between a dictionary and a list is the way elements are accessed. In a list, elements are accessed by their position or index, which is an integer value. Meanwhile in a dictionary, elements are accessed by their keys, which can be of any immutable data type like strings, integers, or tuples. \n"
   ]
  },
  {
   "cell_type": "markdown",
   "id": "668783dc",
   "metadata": {},
   "source": [
    "4. What happens if you try to access spam['foo'] if spam is {'bar': 100}?"
   ]
  },
  {
   "cell_type": "markdown",
   "id": "ce35e2db",
   "metadata": {},
   "source": [
    "Ans\n",
    "\n",
    "As 'foo' is not a key in the dictionary spam, a keyerror will be generated if we try to access spam['foo']."
   ]
  },
  {
   "cell_type": "code",
   "execution_count": 1,
   "id": "9622c9c9",
   "metadata": {},
   "outputs": [
    {
     "ename": "KeyError",
     "evalue": "'foo'",
     "output_type": "error",
     "traceback": [
      "\u001b[1;31m---------------------------------------------------------------------------\u001b[0m",
      "\u001b[1;31mKeyError\u001b[0m                                  Traceback (most recent call last)",
      "Input \u001b[1;32mIn [1]\u001b[0m, in \u001b[0;36m<cell line: 2>\u001b[1;34m()\u001b[0m\n\u001b[0;32m      1\u001b[0m spam\u001b[38;5;241m=\u001b[39m{\u001b[38;5;124m'\u001b[39m\u001b[38;5;124mbar\u001b[39m\u001b[38;5;124m'\u001b[39m:\u001b[38;5;241m100\u001b[39m}\n\u001b[1;32m----> 2\u001b[0m \u001b[43mspam\u001b[49m\u001b[43m[\u001b[49m\u001b[38;5;124;43m'\u001b[39;49m\u001b[38;5;124;43mfoo\u001b[39;49m\u001b[38;5;124;43m'\u001b[39;49m\u001b[43m]\u001b[49m\n",
      "\u001b[1;31mKeyError\u001b[0m: 'foo'"
     ]
    }
   ],
   "source": [
    "spam={'bar':100}\n",
    "spam['foo']"
   ]
  },
  {
   "cell_type": "markdown",
   "id": "eec89ea1",
   "metadata": {},
   "source": [
    "5. If a dictionary is stored in spam, what is the difference between the expressions 'cat' in spam and 'cat' in spam.keys()?"
   ]
  },
  {
   "cell_type": "markdown",
   "id": "b3abe2c6",
   "metadata": {},
   "source": [
    "Ans\n",
    "\n",
    "The in keyword checks whether a value exists in a dictionary's keys. And when spam.keys() is used, a list of dictionary keys are created and using 'cat' in that scenario checks whether the key named as 'cat' exists in that list or not. So \n",
    "If a dictionary is stored in the variable spam, the expressions 'cat' in spam and 'cat' in spam.keys() are functionally equivalent and will return the same result. "
   ]
  },
  {
   "cell_type": "markdown",
   "id": "25a82e8a",
   "metadata": {},
   "source": [
    "6. If a dictionary is stored in spam, what is the difference between the expressions 'cat' in spam and 'cat' in spam.values()?'"
   ]
  },
  {
   "cell_type": "markdown",
   "id": "4906a851",
   "metadata": {},
   "source": [
    "Ans\n",
    "\n",
    "The expression 'cat' in spam checks if the string 'cat' is a key in the dictionary spam, while the expression 'cat' in spam.values() checks if the string 'cat' is a value in the dictionary spam."
   ]
  },
  {
   "cell_type": "markdown",
   "id": "c92507f1",
   "metadata": {},
   "source": [
    "7. What is a shortcut for the following code?"
   ]
  },
  {
   "cell_type": "code",
   "execution_count": null,
   "id": "bfe573e2",
   "metadata": {},
   "outputs": [],
   "source": [
    "if 'color' not in spam:\n",
    "spam['color'] ='black'"
   ]
  },
  {
   "cell_type": "markdown",
   "id": "4f76efb7",
   "metadata": {},
   "source": [
    "Ans\n",
    "The shortcut for the code would be to use the setdefault() method of the dictionary\n",
    "This sets the value of the 'color' key to 'black' only if the key is not already in the dictionary, otherwise it does nothing."
   ]
  },
  {
   "cell_type": "code",
   "execution_count": null,
   "id": "4ac2cd92",
   "metadata": {},
   "outputs": [],
   "source": [
    "spam.setdefault('color', 'black')"
   ]
  },
  {
   "cell_type": "markdown",
   "id": "6138e85f",
   "metadata": {},
   "source": [
    "8. How do you \"pretty print\" dictionary values using which module and function?"
   ]
  },
  {
   "cell_type": "markdown",
   "id": "33e748f9",
   "metadata": {},
   "source": [
    "Ans\n",
    "\n",
    "To \"pretty print\" dictionary values, the pprint module's pprint() function can be used."
   ]
  },
  {
   "cell_type": "code",
   "execution_count": 2,
   "id": "7e65d3e6",
   "metadata": {},
   "outputs": [
    {
     "name": "stdout",
     "output_type": "stream",
     "text": [
      "{'age': 30, 'gender': 'male', 'name': 'John'}\n"
     ]
    }
   ],
   "source": [
    "import pprint\n",
    "\n",
    "my_dict = {\"name\": \"John\", \"age\": 30, \"gender\": \"male\"}\n",
    "\n",
    "pprint.pprint(my_dict)\n"
   ]
  },
  {
   "cell_type": "code",
   "execution_count": null,
   "id": "a9bcffc6",
   "metadata": {},
   "outputs": [],
   "source": []
  }
 ],
 "metadata": {
  "kernelspec": {
   "display_name": "Python 3 (ipykernel)",
   "language": "python",
   "name": "python3"
  },
  "language_info": {
   "codemirror_mode": {
    "name": "ipython",
    "version": 3
   },
   "file_extension": ".py",
   "mimetype": "text/x-python",
   "name": "python",
   "nbconvert_exporter": "python",
   "pygments_lexer": "ipython3",
   "version": "3.9.12"
  }
 },
 "nbformat": 4,
 "nbformat_minor": 5
}
