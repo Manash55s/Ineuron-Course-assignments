{
 "cells": [
  {
   "cell_type": "markdown",
   "id": "abb5bdec",
   "metadata": {},
   "source": [
    "1. What are escape characters, and how do you use them?"
   ]
  },
  {
   "cell_type": "markdown",
   "id": "2cffd8d0",
   "metadata": {},
   "source": [
    "Ans\n",
    "\n",
    "The various escape characters a listed below\n",
    "\\n: Newline. Inserts a newline character.\n",
    "\\t: Horizontal tab. Inserts a tab character.\n",
    "': Single quote. Inserts a single quote character.\n",
    "\": Double quote. Inserts a double quote character.\n",
    "\\b: Backspace. Moves the cursor back one character.\n",
    "\\r: Carriage return. Moves the cursor to the beginning of the line.\n",
    "\\f: Form feed. Moves the cursor to the next page.\n",
    "\n",
    "They are used to represent certain characters that are difficult or impossible to type directly into a string. \n",
    "In code they are used by a backslash () followed by a character or code that represents the special character."
   ]
  },
  {
   "cell_type": "markdown",
   "id": "0f482d77",
   "metadata": {},
   "source": [
    "2. What do the escape characters n and t stand for?"
   ]
  },
  {
   "cell_type": "markdown",
   "id": "d37352fa",
   "metadata": {},
   "source": [
    "Ans\n",
    "\n",
    "In Python, the escape character \\n represents a newline character, which is used to move the cursor to the next line in a text.\n",
    "The escape character \\t represents a tab character, which is used to insert horizontal space between characters."
   ]
  },
  {
   "cell_type": "markdown",
   "id": "53b16e6a",
   "metadata": {},
   "source": [
    "3. What is the way to include backslash characters in a string?"
   ]
  },
  {
   "cell_type": "markdown",
   "id": "0ddf13c6",
   "metadata": {},
   "source": [
    "Ans\n",
    "To include a backslash character in a string, a double backslash is used. This is because the backslash character has a special meaning in Python, as it is used to escape characters that would otherwise have a special meaning in a string, such as the double quote character (\") or the newline character (\\n).\n"
   ]
  },
  {
   "cell_type": "code",
   "execution_count": 23,
   "id": "501d9dc6",
   "metadata": {},
   "outputs": [
    {
     "name": "stdout",
     "output_type": "stream",
     "text": [
      "This is a backslash: \\\n"
     ]
    }
   ],
   "source": [
    "my_string = \"This is a backslash: \\\\\"\n",
    "print(my_string)"
   ]
  },
  {
   "cell_type": "markdown",
   "id": "bd7f4f07",
   "metadata": {},
   "source": [
    "4. The string \"Howl's Moving Castle\" is a correct value. Why isn't the single quote character in the word Howl's not escaped a problem?"
   ]
  },
  {
   "cell_type": "markdown",
   "id": "895aa8b0",
   "metadata": {},
   "source": [
    "Ans\n",
    "\n",
    "In this case, since the string is enclosed in double quotes, the single quote character in the word \"Howl's\" does not need to be escaped.\n",
    "\n",
    "If  single quotes were used to enclose the string, to escape the single quote character a backslash would have needed to be used. So that the single quote should be treated as a literal character, rather than a closing quote for the string."
   ]
  },
  {
   "cell_type": "code",
   "execution_count": 22,
   "id": "39636a81",
   "metadata": {},
   "outputs": [
    {
     "data": {
      "text/plain": [
       "\"Howl's Moving Castle\""
      ]
     },
     "execution_count": 22,
     "metadata": {},
     "output_type": "execute_result"
    }
   ],
   "source": [
    "'Howl\\'s Moving Castle'"
   ]
  },
  {
   "cell_type": "markdown",
   "id": "d0486cc0",
   "metadata": {},
   "source": [
    "5. How do you write a string of newlines if you don't want to use the n character?"
   ]
  },
  {
   "cell_type": "markdown",
   "id": "5aba52d2",
   "metadata": {},
   "source": [
    "Ans\n",
    "\n",
    "The os module provide an attribute to known as os.linesep in Python to get the system's newline character(s) and use it for creating a new line."
   ]
  },
  {
   "cell_type": "code",
   "execution_count": 21,
   "id": "fed89531",
   "metadata": {},
   "outputs": [
    {
     "name": "stdout",
     "output_type": "stream",
     "text": [
      "This is the first line\r\n",
      "This is the second line\r\n",
      "This is the third line\n"
     ]
    }
   ],
   "source": [
    "import os\n",
    "my_string = \"This is the first line\" + os.linesep + \"This is the second line\" + os.linesep + \"This is the third line\"\n",
    "print(my_string)"
   ]
  },
  {
   "cell_type": "markdown",
   "id": "df56b447",
   "metadata": {},
   "source": [
    "6. What are the values of the given expressions?\n",
    "'Hello, world!'[1]\n",
    "'Hello, world!'[0:5]\n",
    "'Hello, world!'[:5]\n",
    "'Hello, world!'[3:]"
   ]
  },
  {
   "cell_type": "code",
   "execution_count": 17,
   "id": "8514aca1",
   "metadata": {},
   "outputs": [
    {
     "data": {
      "text/plain": [
       "'e'"
      ]
     },
     "execution_count": 17,
     "metadata": {},
     "output_type": "execute_result"
    }
   ],
   "source": [
    "'Hello, world!'[1]"
   ]
  },
  {
   "cell_type": "code",
   "execution_count": 18,
   "id": "b6f2aefd",
   "metadata": {},
   "outputs": [
    {
     "data": {
      "text/plain": [
       "'Hello'"
      ]
     },
     "execution_count": 18,
     "metadata": {},
     "output_type": "execute_result"
    }
   ],
   "source": [
    "'Hello, world!'[0:5]"
   ]
  },
  {
   "cell_type": "code",
   "execution_count": 19,
   "id": "b128dff5",
   "metadata": {},
   "outputs": [
    {
     "data": {
      "text/plain": [
       "'Hello'"
      ]
     },
     "execution_count": 19,
     "metadata": {},
     "output_type": "execute_result"
    }
   ],
   "source": [
    "'Hello, world!'[:5]"
   ]
  },
  {
   "cell_type": "code",
   "execution_count": 20,
   "id": "3ae1ef6a",
   "metadata": {},
   "outputs": [
    {
     "data": {
      "text/plain": [
       "'lo, world!'"
      ]
     },
     "execution_count": 20,
     "metadata": {},
     "output_type": "execute_result"
    }
   ],
   "source": [
    "'Hello, world!'[3:]"
   ]
  },
  {
   "cell_type": "markdown",
   "id": "4e0c8b59",
   "metadata": {},
   "source": [
    "7. What are the values of the following expressions?\n",
    "'Hello'.upper()\n",
    "'Hello'.upper().isupper()\n",
    "'Hello'.upper().lower()"
   ]
  },
  {
   "cell_type": "code",
   "execution_count": 14,
   "id": "e47004a1",
   "metadata": {},
   "outputs": [
    {
     "data": {
      "text/plain": [
       "'HELLO'"
      ]
     },
     "execution_count": 14,
     "metadata": {},
     "output_type": "execute_result"
    }
   ],
   "source": [
    "'Hello'.upper()"
   ]
  },
  {
   "cell_type": "code",
   "execution_count": 15,
   "id": "22b3cb1a",
   "metadata": {},
   "outputs": [
    {
     "data": {
      "text/plain": [
       "True"
      ]
     },
     "execution_count": 15,
     "metadata": {},
     "output_type": "execute_result"
    }
   ],
   "source": [
    "'Hello'.upper().isupper()"
   ]
  },
  {
   "cell_type": "code",
   "execution_count": 16,
   "id": "f6c5889b",
   "metadata": {},
   "outputs": [
    {
     "data": {
      "text/plain": [
       "'hello'"
      ]
     },
     "execution_count": 16,
     "metadata": {},
     "output_type": "execute_result"
    }
   ],
   "source": [
    "'Hello'.upper().lower()"
   ]
  },
  {
   "cell_type": "markdown",
   "id": "fef1da01",
   "metadata": {},
   "source": [
    "8. What are the values of the following expressions?\n",
    "'Remember, remember, the fifth of July.'.split()\n",
    "'-'.join('There can only one.'.split())"
   ]
  },
  {
   "cell_type": "code",
   "execution_count": 13,
   "id": "a41344cf",
   "metadata": {},
   "outputs": [
    {
     "data": {
      "text/plain": [
       "['Remember,', 'remember,', 'the', 'fifth', 'of', 'July.']"
      ]
     },
     "execution_count": 13,
     "metadata": {},
     "output_type": "execute_result"
    }
   ],
   "source": [
    "'Remember, remember, the fifth of July.'.split()\n",
    "\n"
   ]
  },
  {
   "cell_type": "code",
   "execution_count": 12,
   "id": "6562d22e",
   "metadata": {},
   "outputs": [
    {
     "data": {
      "text/plain": [
       "'There-can-only-one.'"
      ]
     },
     "execution_count": 12,
     "metadata": {},
     "output_type": "execute_result"
    }
   ],
   "source": [
    "\n",
    "'-'.join('There can only one.'.split())"
   ]
  },
  {
   "cell_type": "markdown",
   "id": "37c79cc1",
   "metadata": {},
   "source": [
    "9. What are the methods for right-justifying, left-justifying, and centering a string?"
   ]
  },
  {
   "cell_type": "markdown",
   "id": "eb907585",
   "metadata": {},
   "source": [
    "Ans\n",
    "\n",
    "Following are the methods for right-justifying, left-justifying, and centering a string.\n",
    "\n",
    "1. str.rjust(width):"
   ]
  },
  {
   "cell_type": "code",
   "execution_count": 4,
   "id": "36a562e6",
   "metadata": {},
   "outputs": [
    {
     "name": "stdout",
     "output_type": "stream",
     "text": [
      "hello\n",
      "     hello\n"
     ]
    }
   ],
   "source": [
    "string = \"hello\"\n",
    "width = 10\n",
    "print(string)\n",
    "print(string.rjust(width))"
   ]
  },
  {
   "cell_type": "markdown",
   "id": "071a992c",
   "metadata": {},
   "source": [
    "2. str.ljust(width)"
   ]
  },
  {
   "cell_type": "code",
   "execution_count": 8,
   "id": "69fc6df7",
   "metadata": {},
   "outputs": [
    {
     "name": "stdout",
     "output_type": "stream",
     "text": [
      "hello     \n",
      "hello*****\n"
     ]
    }
   ],
   "source": [
    "string = \"hello\"\n",
    "width = 10\n",
    "fillchar = \"*\"\n",
    "print(string.ljust(width)) \n",
    "print(string.ljust(width, fillchar))\n"
   ]
  },
  {
   "cell_type": "markdown",
   "id": "7050e475",
   "metadata": {},
   "source": [
    "3. str.center(width)"
   ]
  },
  {
   "cell_type": "code",
   "execution_count": 11,
   "id": "03a966dc",
   "metadata": {},
   "outputs": [
    {
     "name": "stdout",
     "output_type": "stream",
     "text": [
      "hello\n",
      "  hello   \n",
      "**hello***\n"
     ]
    }
   ],
   "source": [
    "string = \"hello\"\n",
    "width = 10\n",
    "fillchar = \"*\"\n",
    "print(string)\n",
    "print(string.center(width))\n",
    "print(string.center(width, fillchar))"
   ]
  },
  {
   "cell_type": "markdown",
   "id": "472056aa",
   "metadata": {},
   "source": [
    "10. What is the best way to remove whitespace characters from the start or end?"
   ]
  },
  {
   "cell_type": "markdown",
   "id": "d7093b84",
   "metadata": {},
   "source": [
    "Ans\n",
    "\n",
    "In python the strip() method is used to remove whitespace characters from the start or end. \n",
    "To remove whitespace from the start or end of the string, the lstrip() or rstrip() method can be used, respectively."
   ]
  },
  {
   "cell_type": "code",
   "execution_count": 1,
   "id": "21cc56fd",
   "metadata": {},
   "outputs": [
    {
     "name": "stdout",
     "output_type": "stream",
     "text": [
      "Hello World\n"
     ]
    }
   ],
   "source": [
    "text = \"  Hello World  \"\n",
    "clean_text = text.strip()\n",
    "print(clean_text)  \n"
   ]
  },
  {
   "cell_type": "code",
   "execution_count": 2,
   "id": "0670dfb7",
   "metadata": {},
   "outputs": [
    {
     "name": "stdout",
     "output_type": "stream",
     "text": [
      "Hello World  \n",
      "  Hello World\n"
     ]
    }
   ],
   "source": [
    "text = \"  Hello World  \"\n",
    "clean_text_start = text.lstrip()\n",
    "clean_text_end = text.rstrip()\n",
    "print(clean_text_start) \n",
    "print(clean_text_end)    \n"
   ]
  },
  {
   "cell_type": "code",
   "execution_count": null,
   "id": "90cd94df",
   "metadata": {},
   "outputs": [],
   "source": []
  }
 ],
 "metadata": {
  "kernelspec": {
   "display_name": "Python 3 (ipykernel)",
   "language": "python",
   "name": "python3"
  },
  "language_info": {
   "codemirror_mode": {
    "name": "ipython",
    "version": 3
   },
   "file_extension": ".py",
   "mimetype": "text/x-python",
   "name": "python",
   "nbconvert_exporter": "python",
   "pygments_lexer": "ipython3",
   "version": "3.9.12"
  }
 },
 "nbformat": 4,
 "nbformat_minor": 5
}
