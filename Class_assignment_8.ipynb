{
 "cells": [
  {
   "cell_type": "markdown",
   "id": "2dfcad28",
   "metadata": {},
   "source": [
    "1. Is the Python Standard Library included with PyInputPlus?"
   ]
  },
  {
   "cell_type": "markdown",
   "id": "246dc1e3",
   "metadata": {},
   "source": [
    "No, the Python Standard Library is not included with PyInputPlus. PyInputPlus is a third-party module that provides additional features for taking user input in Python. "
   ]
  },
  {
   "cell_type": "markdown",
   "id": "3306cacb",
   "metadata": {},
   "source": [
    "2. Why is PyInputPlus commonly imported with import pyinputplus as pypi?"
   ]
  },
  {
   "cell_type": "markdown",
   "id": "53f1298a",
   "metadata": {},
   "source": [
    "The reason why pyinputplus is commonly imported as pypi is to save typing and make the code more concise. The name pypi is shorter and easier to type than pyinputplus, especially if you need to use the module multiple times in the same file. It is also a convention that is commonly used in the Python community, as it is a common abbreviation for \"Python Package Index\", which is a repository of software packages for Python."
   ]
  },
  {
   "cell_type": "markdown",
   "id": "ff5c42bc",
   "metadata": {},
   "source": [
    "3. How do you distinguish between inputInt() and inputFloat()?"
   ]
  },
  {
   "cell_type": "markdown",
   "id": "d299ca07",
   "metadata": {},
   "source": [
    "inputInt() is used to take integer input from the user, while inputFloat() is used to take floating-point input from the user. Examples are given below"
   ]
  },
  {
   "cell_type": "code",
   "execution_count": 2,
   "id": "bce7261e",
   "metadata": {},
   "outputs": [
    {
     "name": "stdout",
     "output_type": "stream",
     "text": [
      "Enter an integer: 45.7\n",
      "'45.7' is not an integer.\n",
      "Enter an integer: 34\n"
     ]
    }
   ],
   "source": [
    "import pyinputplus as pypi\n",
    "\n",
    "num = pypi.inputInt(prompt='Enter an integer: ')"
   ]
  },
  {
   "cell_type": "code",
   "execution_count": 4,
   "id": "74816008",
   "metadata": {},
   "outputs": [
    {
     "name": "stdout",
     "output_type": "stream",
     "text": [
      "Enter a float: 67.77\n"
     ]
    }
   ],
   "source": [
    "import pyinputplus as pypi\n",
    "\n",
    "num = pypi.inputFloat(prompt='Enter a float: ')\n"
   ]
  },
  {
   "cell_type": "markdown",
   "id": "77447819",
   "metadata": {},
   "source": [
    "4. Using PyInputPlus, how do you ensure that the user enters a whole number between 0 and 99?"
   ]
  },
  {
   "cell_type": "markdown",
   "id": "92ca3d1e",
   "metadata": {},
   "source": [
    "Below is an example of code to ensure that the user enters a whole number between 0 and 99"
   ]
  },
  {
   "cell_type": "code",
   "execution_count": 5,
   "id": "9fd3f9f8",
   "metadata": {},
   "outputs": [
    {
     "name": "stdout",
     "output_type": "stream",
     "text": [
      "Enter a whole number between 0 and 99: 104\n",
      "Number must be at maximum 99.\n",
      "Enter a whole number between 0 and 99: 45\n",
      "You entered: 45\n"
     ]
    }
   ],
   "source": [
    "import pyinputplus as pypi\n",
    "\n",
    "num = pypi.inputInt(\"Enter a whole number between 0 and 99: \", min=0, max=99)\n",
    "print(\"You entered:\", num)\n"
   ]
  },
  {
   "cell_type": "markdown",
   "id": "ec97609e",
   "metadata": {},
   "source": [
    "5. What is transferred to the keyword arguments allowRegexes and blockRegexes?"
   ]
  },
  {
   "cell_type": "markdown",
   "id": "8895d4dd",
   "metadata": {},
   "source": [
    "allowRegexes is a list of regular expression patterns that allow specific input values to be accepted by the function. If any of the patterns in the list match the user's input, the input is accepted.\n",
    "\n",
    "blockRegexes, on the other hand, is a list of regular expression patterns that block specific input values from being accepted by the function. If any of the patterns in the list match the user's input, the input is rejected and the user is asked to enter a new value."
   ]
  },
  {
   "cell_type": "markdown",
   "id": "92dd986d",
   "metadata": {},
   "source": [
    "6. If a blank input is entered three times, what does inputStr(limit=3) do?"
   ]
  },
  {
   "cell_type": "markdown",
   "id": "ed3c37e9",
   "metadata": {},
   "source": [
    "If a blank input is entered three times, the inputStr(limit=3) function will raise a TimeoutException since the user has exceeded the maximum number of attempts to provide input. By default, the timeout parameter is set to None, meaning that the user can input indefinitely until they provide valid input or they interrupt the program. However, by setting limit=3, the function limits the user to a maximum of three attempts to provide valid input. If the user fails to provide valid input after three attempts, the function will raise a TimeoutException."
   ]
  },
  {
   "cell_type": "markdown",
   "id": "6206ab02",
   "metadata": {},
   "source": [
    "7. If blank input is entered three times, what does inputStr(limit=3, default='hello') do?"
   ]
  },
  {
   "cell_type": "markdown",
   "id": "f92ab5ea",
   "metadata": {},
   "source": [
    "If blank input is entered three times, inputStr(limit=3, default='hello') returns the default value 'hello'.\n",
    "\n",
    "This is because the default argument specifies a fallback value that is returned if the user exceeds the limit or enters an input that fails validation."
   ]
  },
  {
   "cell_type": "code",
   "execution_count": null,
   "id": "7d5c0300",
   "metadata": {},
   "outputs": [],
   "source": []
  },
  {
   "cell_type": "code",
   "execution_count": null,
   "id": "f85337cd",
   "metadata": {},
   "outputs": [],
   "source": []
  },
  {
   "cell_type": "code",
   "execution_count": null,
   "id": "78d463c9",
   "metadata": {},
   "outputs": [],
   "source": []
  },
  {
   "cell_type": "code",
   "execution_count": 1,
   "id": "dbdb5116",
   "metadata": {},
   "outputs": [
    {
     "name": "stdout",
     "output_type": "stream",
     "text": [
      "Collecting pyinputplus\n",
      "  Using cached PyInputPlus-0.2.12.tar.gz (20 kB)\n",
      "  Installing build dependencies: started\n",
      "  Installing build dependencies: finished with status 'done'\n",
      "  Getting requirements to build wheel: started\n",
      "  Getting requirements to build wheel: finished with status 'done'\n",
      "    Preparing wheel metadata: started\n",
      "    Preparing wheel metadata: finished with status 'done'\n",
      "Collecting stdiomask>=0.0.3\n",
      "  Using cached stdiomask-0.0.6.tar.gz (3.6 kB)\n",
      "  Installing build dependencies: started\n",
      "  Installing build dependencies: finished with status 'done'\n",
      "  Getting requirements to build wheel: started\n",
      "  Getting requirements to build wheel: finished with status 'done'\n",
      "    Preparing wheel metadata: started\n",
      "    Preparing wheel metadata: finished with status 'done'\n",
      "Collecting pysimplevalidate>=0.2.7\n",
      "  Using cached PySimpleValidate-0.2.12.tar.gz (22 kB)\n",
      "  Installing build dependencies: started\n",
      "  Installing build dependencies: finished with status 'done'\n",
      "  Getting requirements to build wheel: started\n",
      "  Getting requirements to build wheel: finished with status 'done'\n",
      "    Preparing wheel metadata: started\n",
      "    Preparing wheel metadata: finished with status 'done'\n",
      "Building wheels for collected packages: pyinputplus, pysimplevalidate, stdiomask\n",
      "  Building wheel for pyinputplus (PEP 517): started\n",
      "  Building wheel for pyinputplus (PEP 517): finished with status 'done'\n",
      "  Created wheel for pyinputplus: filename=PyInputPlus-0.2.12-py3-none-any.whl size=11322 sha256=af80653fc5f15113b908421f72b4ecb2ab2852aa9f8d1610842c4df9fbf33d23\n",
      "  Stored in directory: c:\\users\\mandish\\appdata\\local\\pip\\cache\\wheels\\b4\\6e\\2f\\8a852732646cabec36c3fe8fc060ec5bea1c1be711432c47f7\n",
      "  Building wheel for pysimplevalidate (PEP 517): started\n",
      "  Building wheel for pysimplevalidate (PEP 517): finished with status 'done'\n",
      "  Created wheel for pysimplevalidate: filename=PySimpleValidate-0.2.12-py3-none-any.whl size=16204 sha256=ac30e368182b575d775a4840c43144a7b630b77c28b80a35effafa66b74e5add\n",
      "  Stored in directory: c:\\users\\mandish\\appdata\\local\\pip\\cache\\wheels\\b1\\44\\4a\\043a4f4c4512c7cdfb0c2b8408b18b0de5fd45cac57f5dfa02\n",
      "  Building wheel for stdiomask (PEP 517): started\n",
      "  Building wheel for stdiomask (PEP 517): finished with status 'done'\n",
      "  Created wheel for stdiomask: filename=stdiomask-0.0.6-py3-none-any.whl size=3321 sha256=4641381d500d659a4bcc1b7b6bb70b8b097e1561a26e33bf039a12ba2147c130\n",
      "  Stored in directory: c:\\users\\mandish\\appdata\\local\\pip\\cache\\wheels\\1d\\aa\\47\\f41f117d22c5de82e95d9342f44da578c80610739a2d5ebec4\n",
      "Successfully built pyinputplus pysimplevalidate stdiomask\n",
      "Installing collected packages: stdiomask, pysimplevalidate, pyinputplus\n",
      "Successfully installed pyinputplus-0.2.12 pysimplevalidate-0.2.12 stdiomask-0.0.6\n"
     ]
    }
   ],
   "source": [
    "!pip install pyinputplus"
   ]
  }
 ],
 "metadata": {
  "kernelspec": {
   "display_name": "Python 3 (ipykernel)",
   "language": "python",
   "name": "python3"
  },
  "language_info": {
   "codemirror_mode": {
    "name": "ipython",
    "version": 3
   },
   "file_extension": ".py",
   "mimetype": "text/x-python",
   "name": "python",
   "nbconvert_exporter": "python",
   "pygments_lexer": "ipython3",
   "version": "3.9.12"
  }
 },
 "nbformat": 4,
 "nbformat_minor": 5
}
