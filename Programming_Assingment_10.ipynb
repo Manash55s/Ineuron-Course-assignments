{
 "cells": [
  {
   "cell_type": "markdown",
   "id": "f268a970",
   "metadata": {},
   "source": [
    "1.\tWrite a Python program to find sum of elements in list?"
   ]
  },
  {
   "cell_type": "code",
   "execution_count": 1,
   "id": "d0ae86b5",
   "metadata": {},
   "outputs": [
    {
     "name": "stdout",
     "output_type": "stream",
     "text": [
      "Sum of elements: 15\n"
     ]
    }
   ],
   "source": [
    "def find_sum_of_elements(lst):\n",
    "    total = 0\n",
    "    for num in lst:\n",
    "        total += num\n",
    "    return total\n",
    "\n",
    "# Example \n",
    "my_list = [1, 2, 3, 4, 5]\n",
    "sum_of_elements = find_sum_of_elements(my_list)\n",
    "print(\"Sum of elements:\", sum_of_elements)"
   ]
  },
  {
   "cell_type": "markdown",
   "id": "0bd6432e",
   "metadata": {},
   "source": [
    "2.\tWrite a Python program to  Multiply all numbers in the list?"
   ]
  },
  {
   "cell_type": "code",
   "execution_count": 6,
   "id": "8b3ff6ff",
   "metadata": {},
   "outputs": [
    {
     "name": "stdout",
     "output_type": "stream",
     "text": [
      "Multiplication of elements: 120\n"
     ]
    }
   ],
   "source": [
    "def find_multiple_of_elements(lst):\n",
    "    total = 1\n",
    "    for num in lst:\n",
    "        total *= num\n",
    "    return total\n",
    "\n",
    "# Example \n",
    "my_list = [1, 2, 3, 4, 5]\n",
    "multiplication_of_elements = find_multiple_of_elements(my_list)\n",
    "print(\"Multiplication of elements:\", multiplication_of_elements)\n"
   ]
  },
  {
   "cell_type": "markdown",
   "id": "ca1d741b",
   "metadata": {},
   "source": [
    "3.\tWrite a Python program to find smallest number in a list?"
   ]
  },
  {
   "cell_type": "code",
   "execution_count": 7,
   "id": "9a4ff35f",
   "metadata": {},
   "outputs": [
    {
     "name": "stdout",
     "output_type": "stream",
     "text": [
      "Smallest number: 1\n"
     ]
    }
   ],
   "source": [
    "def find_smallest_number(lst):\n",
    "    if len(lst) == 0:\n",
    "        return None\n",
    "    smallest = lst[0]\n",
    "    for num in lst:\n",
    "        if num < smallest:\n",
    "            smallest = num\n",
    "    return smallest\n",
    "\n",
    "# Example\n",
    "my_list = [5, 2, 8, 3, 1]\n",
    "smallest_number = find_smallest_number(my_list)\n",
    "print(\"Smallest number:\", smallest_number)\n"
   ]
  },
  {
   "cell_type": "markdown",
   "id": "7f4b0c93",
   "metadata": {},
   "source": [
    "4.\tWrite a Python program to find largest number in a list?"
   ]
  },
  {
   "cell_type": "code",
   "execution_count": 8,
   "id": "d90125a2",
   "metadata": {},
   "outputs": [
    {
     "name": "stdout",
     "output_type": "stream",
     "text": [
      "largest number: 8\n"
     ]
    }
   ],
   "source": [
    "def find_largest_number(lst):\n",
    "    if len(lst) == 0:\n",
    "        return None\n",
    "    largest = lst[0]\n",
    "    for num in lst:\n",
    "        if num > largest:\n",
    "            largest = num\n",
    "    return largest\n",
    "\n",
    "# Example\n",
    "my_list = [5, 2, 8, 3, 1]\n",
    "largest_number = find_largest_number(my_list)\n",
    "print(\"largest number:\", largest_number)"
   ]
  },
  {
   "cell_type": "markdown",
   "id": "d289de59",
   "metadata": {},
   "source": [
    "5.\tWrite a Python program to find second largest number in a list?"
   ]
  },
  {
   "cell_type": "code",
   "execution_count": 9,
   "id": "f7e43d79",
   "metadata": {},
   "outputs": [
    {
     "name": "stdout",
     "output_type": "stream",
     "text": [
      "Second largest number: 5\n"
     ]
    }
   ],
   "source": [
    "def find_second_largest(lst):\n",
    "    if len(lst) < 2:\n",
    "        return None\n",
    "    largest = max(lst[0], lst[1])\n",
    "    second_largest = min(lst[0], lst[1])\n",
    "    for num in lst[2:]:\n",
    "        if num > largest:\n",
    "            second_largest = largest\n",
    "            largest = num\n",
    "        elif num > second_largest:\n",
    "            second_largest = num\n",
    "    return second_largest\n",
    "\n",
    "# Example\n",
    "my_list = [5, 2, 8, 3, 1]\n",
    "second_largest_number = find_second_largest(my_list)\n",
    "print(\"Second largest number:\", second_largest_number)\n"
   ]
  },
  {
   "cell_type": "markdown",
   "id": "ae786383",
   "metadata": {},
   "source": [
    "6.\tWrite a Python program to find N largest elements from a list?"
   ]
  },
  {
   "cell_type": "code",
   "execution_count": 12,
   "id": "fd32839b",
   "metadata": {},
   "outputs": [
    {
     "name": "stdout",
     "output_type": "stream",
     "text": [
      "Enter the value of n :3\n",
      "N largest elements: [30, 25, 15]\n"
     ]
    }
   ],
   "source": [
    "def find_n_largest_elements(lst, n):\n",
    "    if len(lst) < n:\n",
    "        return None\n",
    "    sorted_lst = sorted(lst, reverse=True)\n",
    "    return sorted_lst[:n]\n",
    "\n",
    "# Example\n",
    "my_list = [10, 25, 8, 15, 30, 12, 5]\n",
    "n=int(input(\"Enter the value of n :\"))\n",
    "n_largest_elements = find_n_largest_elements(my_list, n)\n",
    "print(\"N largest elements:\", n_largest_elements)\n"
   ]
  },
  {
   "cell_type": "markdown",
   "id": "c9f32391",
   "metadata": {},
   "source": [
    "7.\tWrite a Python program to print even numbers in a list?"
   ]
  },
  {
   "cell_type": "code",
   "execution_count": 13,
   "id": "db6810f9",
   "metadata": {},
   "outputs": [
    {
     "name": "stdout",
     "output_type": "stream",
     "text": [
      "Even numbers:\n",
      "2\n",
      "4\n",
      "6\n",
      "8\n",
      "10\n"
     ]
    }
   ],
   "source": [
    "def print_even_numbers(lst):\n",
    "    even_numbers = [num for num in lst if num % 2 == 0]\n",
    "    for num in even_numbers:\n",
    "        print(num)\n",
    "\n",
    "# Example\n",
    "my_list = [1, 2, 3, 4, 5, 6, 7, 8, 9, 10]\n",
    "print(\"Even numbers:\")\n",
    "print_even_numbers(my_list)\n"
   ]
  },
  {
   "cell_type": "markdown",
   "id": "473dedb9",
   "metadata": {},
   "source": [
    "8.\tWrite a Python program to print odd numbers in a List?"
   ]
  },
  {
   "cell_type": "code",
   "execution_count": 15,
   "id": "445344ed",
   "metadata": {},
   "outputs": [
    {
     "name": "stdout",
     "output_type": "stream",
     "text": [
      "Odd numbers:\n",
      "1\n",
      "3\n",
      "5\n",
      "7\n",
      "9\n"
     ]
    }
   ],
   "source": [
    "def print_odd_numbers(lst):\n",
    "    odd_numbers = [num for num in lst if num % 2 != 0]\n",
    "    for num in odd_numbers:\n",
    "        print(num)\n",
    "\n",
    "# Example\n",
    "my_list = [1, 2, 3, 4, 5, 6, 7, 8, 9, 10]\n",
    "print(\"Odd numbers:\")\n",
    "print_odd_numbers(my_list)\n"
   ]
  },
  {
   "cell_type": "markdown",
   "id": "38bd11c2",
   "metadata": {},
   "source": [
    "9.\tWrite a Python program to Remove empty List from List?"
   ]
  },
  {
   "cell_type": "code",
   "execution_count": 16,
   "id": "50441900",
   "metadata": {},
   "outputs": [
    {
     "name": "stdout",
     "output_type": "stream",
     "text": [
      "Original list: [1, [], [2, 3], [], 4, [], [5, 6, 7], []]\n",
      "List after removing empty lists: [1, [2, 3], 4, [5, 6, 7]]\n"
     ]
    }
   ],
   "source": [
    "def remove_empty_lists(lst):\n",
    "    updated_list = [sublst for sublst in lst if sublst]\n",
    "    return updated_list\n",
    "\n",
    "# Example \n",
    "my_list = [1, [], [2, 3], [], 4, [], [5, 6, 7], []]\n",
    "print(\"Original list:\", my_list)\n",
    "updated_list = remove_empty_lists(my_list)\n",
    "print(\"List after removing empty lists:\", updated_list)\n"
   ]
  },
  {
   "cell_type": "markdown",
   "id": "aca98659",
   "metadata": {},
   "source": [
    "10.\tWrite a Python program to Cloning or Copying a list?"
   ]
  },
  {
   "cell_type": "code",
   "execution_count": 17,
   "id": "41693766",
   "metadata": {},
   "outputs": [
    {
     "name": "stdout",
     "output_type": "stream",
     "text": [
      "Original list: [1, 2, 3, 4, 5]\n",
      "Cloned list: [1, 2, 3, 4, 5]\n",
      "Copied list: [1, 2, 3, 4, 5]\n"
     ]
    }
   ],
   "source": [
    "# slice operator\n",
    "def clone_list(lst):\n",
    "    cloned_list = lst[:]\n",
    "    return cloned_list\n",
    "\n",
    "# copy() method\n",
    "def copy_list(lst):\n",
    "    copied_list = lst.copy()\n",
    "    return copied_list\n",
    "\n",
    "# Example\n",
    "my_list = [1, 2, 3, 4, 5]\n",
    "cloned_list = clone_list(my_list)\n",
    "copied_list = copy_list(my_list)\n",
    "\n",
    "print(\"Original list:\", my_list)\n",
    "print(\"Cloned list:\", cloned_list)\n",
    "print(\"Copied list:\", copied_list)\n"
   ]
  },
  {
   "cell_type": "markdown",
   "id": "e0d396bc",
   "metadata": {},
   "source": [
    "11.\tWrite a Python program to Count occurrences of an element in a list?"
   ]
  },
  {
   "cell_type": "code",
   "execution_count": 18,
   "id": "919ed9c4",
   "metadata": {},
   "outputs": [
    {
     "name": "stdout",
     "output_type": "stream",
     "text": [
      "Occurrences of 2 in the list: 4\n"
     ]
    }
   ],
   "source": [
    "def count_occurrences(lst, element):\n",
    "    count = lst.count(element)\n",
    "    return count\n",
    "\n",
    "# Example\n",
    "my_list = [1, 2, 3, 4, 2, 2, 5, 2]\n",
    "element = 2\n",
    "\n",
    "occurrences = count_occurrences(my_list, element)\n",
    "print(\"Occurrences of\", element, \"in the list:\", occurrences)\n"
   ]
  },
  {
   "cell_type": "code",
   "execution_count": null,
   "id": "9ad749a4",
   "metadata": {},
   "outputs": [],
   "source": []
  }
 ],
 "metadata": {
  "kernelspec": {
   "display_name": "Python 3 (ipykernel)",
   "language": "python",
   "name": "python3"
  },
  "language_info": {
   "codemirror_mode": {
    "name": "ipython",
    "version": 3
   },
   "file_extension": ".py",
   "mimetype": "text/x-python",
   "name": "python",
   "nbconvert_exporter": "python",
   "pygments_lexer": "ipython3",
   "version": "3.9.12"
  }
 },
 "nbformat": 4,
 "nbformat_minor": 5
}
