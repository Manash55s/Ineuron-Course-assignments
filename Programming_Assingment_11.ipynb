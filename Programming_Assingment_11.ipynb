{
 "cells": [
  {
   "cell_type": "markdown",
   "id": "09f02143",
   "metadata": {},
   "source": [
    "1. Write a Python program to find words which are greater than given length k?"
   ]
  },
  {
   "cell_type": "code",
   "execution_count": 1,
   "id": "fca0e526",
   "metadata": {},
   "outputs": [
    {
     "name": "stdout",
     "output_type": "stream",
     "text": [
      "Words greater than length 5 : ['banana', 'watermelon', 'orange']\n"
     ]
    }
   ],
   "source": [
    "def find_words_greater_than_k(words, k):\n",
    "    result = []\n",
    "    for word in words:\n",
    "        if len(word) > k:\n",
    "            result.append(word)\n",
    "    return result\n",
    "\n",
    "# Example \n",
    "word_list = [\"apple\", \"banana\", \"grape\", \"watermelon\", \"orange\"]\n",
    "length = 5\n",
    "\n",
    "words_greater_than_k = find_words_greater_than_k(word_list, length)\n",
    "print(\"Words greater than length\", length, \":\", words_greater_than_k)\n"
   ]
  },
  {
   "cell_type": "markdown",
   "id": "928c00c2",
   "metadata": {},
   "source": [
    "2. Write a Python program for removing i-th character from a string?"
   ]
  },
  {
   "cell_type": "code",
   "execution_count": 2,
   "id": "2179a9c9",
   "metadata": {},
   "outputs": [
    {
     "name": "stdout",
     "output_type": "stream",
     "text": [
      "New string: Hello, orld!\n"
     ]
    }
   ],
   "source": [
    "def remove_character(string, i):\n",
    "    if i < 0 or i >= len(string):\n",
    "        return string\n",
    "\n",
    "    return string[:i] + string[i+1:]\n",
    "\n",
    "# Example \n",
    "input_string = \"Hello, World!\"\n",
    "index = 7\n",
    "\n",
    "new_string = remove_character(input_string, index)\n",
    "print(\"New string:\", new_string)\n"
   ]
  },
  {
   "cell_type": "markdown",
   "id": "c2bc8534",
   "metadata": {},
   "source": [
    "3. Write a Python program to split and join a string?"
   ]
  },
  {
   "cell_type": "code",
   "execution_count": 3,
   "id": "2fbf051e",
   "metadata": {},
   "outputs": [
    {
     "name": "stdout",
     "output_type": "stream",
     "text": [
      "New string: Hello World!This is a string.\n"
     ]
    }
   ],
   "source": [
    "def split_and_join(string, delimiter):\n",
    "    # Split the string into a list of substrings using the delimiter\n",
    "    substrings = string.split(delimiter)\n",
    "    \n",
    "    # Join the substrings using a space as the delimiter\n",
    "    new_string = ' '.join(substrings)\n",
    "    \n",
    "    return new_string\n",
    "\n",
    "# Example\n",
    "input_string = \"Hello,World!This,is,a,string.\"\n",
    "delimiter = ','\n",
    "\n",
    "new_string = split_and_join(input_string, delimiter)\n",
    "print(\"New string:\", new_string)\n"
   ]
  },
  {
   "cell_type": "markdown",
   "id": "6dd3b5b1",
   "metadata": {},
   "source": [
    "4. Write a Python to check if a given string is binary string or not?"
   ]
  },
  {
   "cell_type": "code",
   "execution_count": 6,
   "id": "89e611af",
   "metadata": {},
   "outputs": [
    {
     "name": "stdout",
     "output_type": "stream",
     "text": [
      "Is binary string: True\n"
     ]
    }
   ],
   "source": [
    "def is_binary_string(string):\n",
    "    # Check if the string contains only '0' and '1' characters\n",
    "    for char in string:\n",
    "        if char != '0' and char != '1':\n",
    "            return False\n",
    "    return True\n",
    "\n",
    "# Example\n",
    "input_string = \"1010100\"\n",
    "result = is_binary_string(input_string)\n",
    "print(\"Is binary string:\", result)\n"
   ]
  },
  {
   "cell_type": "markdown",
   "id": "d5ab15b7",
   "metadata": {},
   "source": [
    "5. Write a Python program to find uncommon words from two Strings?"
   ]
  },
  {
   "cell_type": "code",
   "execution_count": 7,
   "id": "81e295b0",
   "metadata": {},
   "outputs": [
    {
     "name": "stdout",
     "output_type": "stream",
     "text": [
      "Uncommon words: {'world', 'programming'}\n"
     ]
    }
   ],
   "source": [
    "def find_uncommon_words(string1, string2):\n",
    "    # Split the strings into lists of words\n",
    "    words1 = string1.split()\n",
    "    words2 = string2.split()\n",
    "    \n",
    "    # Create sets of words\n",
    "    set1 = set(words1)\n",
    "    set2 = set(words2)\n",
    "    \n",
    "    # Find uncommon words by taking the symmetric difference of the sets\n",
    "    uncommon_words = set1.symmetric_difference(set2)\n",
    "    \n",
    "    return uncommon_words\n",
    "\n",
    "# Example \n",
    "string1 = \"Hello world Python\"\n",
    "string2 = \"Hello programming Python\"\n",
    "result = find_uncommon_words(string1, string2)\n",
    "print(\"Uncommon words:\", result)\n"
   ]
  },
  {
   "cell_type": "markdown",
   "id": "74693956",
   "metadata": {},
   "source": [
    "6. Write a Python to find all duplicate characters in string?"
   ]
  },
  {
   "cell_type": "code",
   "execution_count": 8,
   "id": "5d998c5f",
   "metadata": {},
   "outputs": [
    {
     "name": "stdout",
     "output_type": "stream",
     "text": [
      "Duplicate characters: {'o', 'l'}\n"
     ]
    }
   ],
   "source": [
    "def find_duplicate_characters(string):\n",
    "    # Create an empty set to store duplicate characters\n",
    "    duplicates = set()\n",
    "    \n",
    "    # Create an empty set to store seen characters\n",
    "    seen = set()\n",
    "    \n",
    "    # Iterate over each character in the string\n",
    "    for char in string:\n",
    "        # Check if the character is already seen\n",
    "        if char in seen:\n",
    "            duplicates.add(char)\n",
    "        else:\n",
    "            seen.add(char)\n",
    "    \n",
    "    return duplicates\n",
    "\n",
    "# Example\n",
    "input_string = \"Hello World\"\n",
    "result = find_duplicate_characters(input_string)\n",
    "print(\"Duplicate characters:\", result)\n"
   ]
  },
  {
   "cell_type": "markdown",
   "id": "d7f0eb0c",
   "metadata": {},
   "source": [
    "7. Write a Python Program to check if a string contains any special character?"
   ]
  },
  {
   "cell_type": "code",
   "execution_count": 9,
   "id": "bc79ba0c",
   "metadata": {},
   "outputs": [
    {
     "name": "stdout",
     "output_type": "stream",
     "text": [
      "Contains special characters: True\n"
     ]
    }
   ],
   "source": [
    "import re\n",
    "\n",
    "def contains_special_characters(string):\n",
    "    # Define a regular expression pattern for special characters\n",
    "    pattern = r'[^a-zA-Z0-9\\s]'\n",
    "    \n",
    "    # Use the re.search() function to search for the pattern in the string\n",
    "    match = re.search(pattern, string)\n",
    "    \n",
    "    # If a match is found, return True indicating presence of special characters\n",
    "    if match:\n",
    "        return True\n",
    "    \n",
    "    # If no match is found, return False indicating no special characters\n",
    "    return False\n",
    "\n",
    "# Example\n",
    "input_string = \"Hello World!\"\n",
    "result = contains_special_characters(input_string)\n",
    "print(\"Contains special characters:\", result)\n"
   ]
  },
  {
   "cell_type": "code",
   "execution_count": 10,
   "id": "9faa34a6",
   "metadata": {},
   "outputs": [
    {
     "name": "stdout",
     "output_type": "stream",
     "text": [
      "Contains special characters: True\n"
     ]
    }
   ],
   "source": [
    "def contains_special_characters(string):\n",
    "    # Define a set of special characters\n",
    "    special_characters = \"!@#$%^&*()_+{}[]|\\\"':;<>,.?/~`\"\n",
    "    \n",
    "    # Iterate over each character in the string\n",
    "    for char in string:\n",
    "        # Check if the character is a special character\n",
    "        if char in special_characters:\n",
    "            return True\n",
    "    \n",
    "    # If no special characters are found, return False\n",
    "    return False\n",
    "\n",
    "# Example\n",
    "input_string = \"Hello World!\"\n",
    "result = contains_special_characters(input_string)\n",
    "print(\"Contains special characters:\", result)\n"
   ]
  }
 ],
 "metadata": {
  "kernelspec": {
   "display_name": "Python 3 (ipykernel)",
   "language": "python",
   "name": "python3"
  },
  "language_info": {
   "codemirror_mode": {
    "name": "ipython",
    "version": 3
   },
   "file_extension": ".py",
   "mimetype": "text/x-python",
   "name": "python",
   "nbconvert_exporter": "python",
   "pygments_lexer": "ipython3",
   "version": "3.9.12"
  }
 },
 "nbformat": 4,
 "nbformat_minor": 5
}
