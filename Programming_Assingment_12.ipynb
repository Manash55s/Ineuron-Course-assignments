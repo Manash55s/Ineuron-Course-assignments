{
 "cells": [
  {
   "cell_type": "markdown",
   "id": "75a1cfde",
   "metadata": {},
   "source": [
    "1. Write a Python program to Extract Unique values dictionary values?"
   ]
  },
  {
   "cell_type": "code",
   "execution_count": 1,
   "id": "3bb28c34",
   "metadata": {},
   "outputs": [
    {
     "name": "stdout",
     "output_type": "stream",
     "text": [
      "Unique values: [1, 2, 3]\n"
     ]
    }
   ],
   "source": [
    "def extract_unique_values(dictionary):\n",
    "    # Get all the values from the dictionary\n",
    "    values = dictionary.values()\n",
    "    \n",
    "    # Create a set to store unique values\n",
    "    unique_values = set(values)\n",
    "    \n",
    "    # Convert the set to a list if needed\n",
    "    unique_values_list = list(unique_values)\n",
    "    \n",
    "    return unique_values_list\n",
    "\n",
    "# Example\n",
    "my_dict = {\"a\": 1, \"b\": 2, \"c\": 1, \"d\": 3, \"e\": 2}\n",
    "unique_values = extract_unique_values(my_dict)\n",
    "print(\"Unique values:\", unique_values)\n"
   ]
  },
  {
   "cell_type": "markdown",
   "id": "c722cf11",
   "metadata": {},
   "source": [
    "2. Write a Python program to find the sum of all items in a dictionary?"
   ]
  },
  {
   "cell_type": "code",
   "execution_count": 2,
   "id": "37ee8cc1",
   "metadata": {},
   "outputs": [
    {
     "name": "stdout",
     "output_type": "stream",
     "text": [
      "Sum of dictionary items: 10\n"
     ]
    }
   ],
   "source": [
    "def sum_of_dictionary_items(dictionary):\n",
    "    # Get all the values from the dictionary\n",
    "    values = dictionary.values()\n",
    "    \n",
    "    # Calculate the sum of the values\n",
    "    total_sum = sum(values)\n",
    "    \n",
    "    return total_sum\n",
    "\n",
    "# Example\n",
    "my_dict = {\"a\": 1, \"b\": 2, \"c\": 3, \"d\": 4}\n",
    "total_sum = sum_of_dictionary_items(my_dict)\n",
    "print(\"Sum of dictionary items:\", total_sum)\n"
   ]
  },
  {
   "cell_type": "markdown",
   "id": "fb930502",
   "metadata": {},
   "source": [
    "3. Write a Python program to Merging two Dictionaries?"
   ]
  },
  {
   "cell_type": "code",
   "execution_count": 3,
   "id": "7d605b94",
   "metadata": {},
   "outputs": [
    {
     "name": "stdout",
     "output_type": "stream",
     "text": [
      "Merged dictionary: {'a': 1, 'b': 2, 'c': 3, 'd': 4}\n"
     ]
    }
   ],
   "source": [
    "def merge_dictionaries(dict1, dict2):\n",
    "    merged_dict = dict1.copy()\n",
    "    merged_dict.update(dict2)\n",
    "    return merged_dict\n",
    "\n",
    "#Example\n",
    "dict1 = {\"a\": 1, \"b\": 2}\n",
    "dict2 = {\"c\": 3, \"d\": 4}\n",
    "merged_dict = merge_dictionaries(dict1, dict2)\n",
    "print(\"Merged dictionary:\", merged_dict)\n"
   ]
  },
  {
   "cell_type": "markdown",
   "id": "afe25cab",
   "metadata": {},
   "source": [
    "4. Write a Python program to convert key-values list to flat dictionary?"
   ]
  },
  {
   "cell_type": "code",
   "execution_count": 4,
   "id": "0e99f9c5",
   "metadata": {},
   "outputs": [
    {
     "name": "stdout",
     "output_type": "stream",
     "text": [
      "Flat Dictionary: {'a': 1, 'b': 2, 'c': 3}\n"
     ]
    }
   ],
   "source": [
    "def convert_to_flat_dictionary(kv_list):\n",
    "    flat_dict = {}\n",
    "    for pair in kv_list:\n",
    "        key, value = pair\n",
    "        flat_dict[key] = value\n",
    "    return flat_dict\n",
    "\n",
    "# Example \n",
    "kv_list = [(\"a\", 1), (\"b\", 2), (\"c\", 3)]\n",
    "flat_dict = convert_to_flat_dictionary(kv_list)\n",
    "print(\"Flat Dictionary:\", flat_dict)\n"
   ]
  },
  {
   "cell_type": "markdown",
   "id": "a268fa17",
   "metadata": {},
   "source": [
    "5. Write a Python program to insertion at the beginning in OrderedDict?"
   ]
  },
  {
   "cell_type": "code",
   "execution_count": 5,
   "id": "d6d2411e",
   "metadata": {},
   "outputs": [
    {
     "name": "stdout",
     "output_type": "stream",
     "text": [
      "Initial OrderedDict: OrderedDict([('b', 2), ('c', 3)])\n",
      "OrderedDict after insertion: OrderedDict([('a', 1), ('b', 2), ('c', 3)])\n"
     ]
    }
   ],
   "source": [
    "from collections import OrderedDict\n",
    "\n",
    "def insert_at_beginning(od, key, value):\n",
    "    od[key] = value\n",
    "    od.move_to_end(key, last=False)\n",
    "\n",
    "# Example\n",
    "od = OrderedDict([('b', 2), ('c', 3)])\n",
    "print(\"Initial OrderedDict:\", od)\n",
    "\n",
    "insert_at_beginning(od, 'a', 1)\n",
    "print(\"OrderedDict after insertion:\", od)\n"
   ]
  },
  {
   "cell_type": "markdown",
   "id": "7913202b",
   "metadata": {},
   "source": [
    "6. Write a Python program to check order of character in string using OrderedDict()?"
   ]
  },
  {
   "cell_type": "code",
   "execution_count": 7,
   "id": "c8d334a3",
   "metadata": {},
   "outputs": [
    {
     "name": "stdout",
     "output_type": "stream",
     "text": [
      "hello\n",
      "helo\n",
      "Characters in string are not in order\n",
      "python\n",
      "python\n",
      "Characters in string are in order\n"
     ]
    }
   ],
   "source": [
    "from collections import OrderedDict\n",
    "\n",
    "def check_order_of_characters(string):\n",
    "    od = OrderedDict.fromkeys(string)\n",
    "    ordered_string = ''.join(od.keys())\n",
    "    print(string)\n",
    "    print(ordered_string)\n",
    "\n",
    "    if string == ordered_string:\n",
    "        return \"Characters in string are in order\"\n",
    "    else:\n",
    "        return \"Characters in string are not in order\"\n",
    "\n",
    "# Example\n",
    "string1 = \"hello\"\n",
    "string2 = \"python\"\n",
    "\n",
    "print(check_order_of_characters(string1))\n",
    "print(check_order_of_characters(string2))\n"
   ]
  },
  {
   "cell_type": "markdown",
   "id": "5f761595",
   "metadata": {},
   "source": [
    "7. Write a Python program to sort Python Dictionaries by Key or Value?"
   ]
  },
  {
   "cell_type": "code",
   "execution_count": 9,
   "id": "9fd34c59",
   "metadata": {},
   "outputs": [
    {
     "name": "stdout",
     "output_type": "stream",
     "text": [
      "Sorted by Key: {'a': 5, 'b': 2, 'c': 3}\n",
      "Sorted by Value: {'b': 2, 'c': 3, 'a': 5}\n"
     ]
    }
   ],
   "source": [
    "# Dictionary to be sorted\n",
    "my_dict = {'c': 3, 'a': 5, 'b': 2}\n",
    "\n",
    "# Sort dictionary by key\n",
    "sorted_dict_by_key = dict(sorted(my_dict.items(), key=lambda x: x[0]))\n",
    "print(\"Sorted by Key:\", sorted_dict_by_key)\n",
    "\n",
    "# Sort dictionary by value\n",
    "sorted_dict_by_value = dict(sorted(my_dict.items(), key=lambda x: x[1]))\n",
    "print(\"Sorted by Value:\", sorted_dict_by_value)\n"
   ]
  },
  {
   "cell_type": "code",
   "execution_count": 10,
   "id": "d7e661c6",
   "metadata": {},
   "outputs": [
    {
     "data": {
      "text/plain": [
       "dict_items([('c', 3), ('a', 5), ('b', 2)])"
      ]
     },
     "execution_count": 10,
     "metadata": {},
     "output_type": "execute_result"
    }
   ],
   "source": [
    "my_dict.items()"
   ]
  },
  {
   "cell_type": "code",
   "execution_count": 12,
   "id": "2947e3c4",
   "metadata": {},
   "outputs": [
    {
     "data": {
      "text/plain": [
       "[('b', 2), ('c', 3), ('a', 5)]"
      ]
     },
     "execution_count": 12,
     "metadata": {},
     "output_type": "execute_result"
    }
   ],
   "source": [
    "sorted(my_dict.items(), key=lambda x: x[1])"
   ]
  },
  {
   "cell_type": "code",
   "execution_count": null,
   "id": "e53d91a6",
   "metadata": {},
   "outputs": [],
   "source": []
  }
 ],
 "metadata": {
  "kernelspec": {
   "display_name": "Python 3 (ipykernel)",
   "language": "python",
   "name": "python3"
  },
  "language_info": {
   "codemirror_mode": {
    "name": "ipython",
    "version": 3
   },
   "file_extension": ".py",
   "mimetype": "text/x-python",
   "name": "python",
   "nbconvert_exporter": "python",
   "pygments_lexer": "ipython3",
   "version": "3.9.12"
  }
 },
 "nbformat": 4,
 "nbformat_minor": 5
}
