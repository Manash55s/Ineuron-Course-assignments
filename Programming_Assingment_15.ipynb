{
 "cells": [
  {
   "cell_type": "markdown",
   "id": "bf84505d",
   "metadata": {},
   "source": [
    "Question 1: \n",
    "\n",
    "Please write a program using generator to print the numbers which can be divisible by 5 and 7 between 0 and n in comma separated form while n is input by console.\n",
    "\n",
    "Example:\n",
    "If the following n is given as input to the program:\n",
    "100\n",
    "Then, the output of the program should be:\n",
    "0,35,70"
   ]
  },
  {
   "cell_type": "code",
   "execution_count": 1,
   "id": "8b73850e",
   "metadata": {},
   "outputs": [
    {
     "name": "stdout",
     "output_type": "stream",
     "text": [
      "Enter a number: 100\n",
      "0,35,70\n"
     ]
    }
   ],
   "source": [
    "def divisible_by_5_and_7(n):\n",
    "    for num in range(n+1):\n",
    "        if num % 5 == 0 and num % 7 == 0:\n",
    "            yield num\n",
    "\n",
    "n = int(input(\"Enter a number: \"))\n",
    "result = list(divisible_by_5_and_7(n))\n",
    "output = ','.join(map(str, result))\n",
    "print(output)"
   ]
  },
  {
   "cell_type": "markdown",
   "id": "d0ab027a",
   "metadata": {},
   "source": [
    "Question 2:\n",
    "\n",
    "Please write a program using generator to print the even numbers between 0 and n in comma separated form while n is input by console.\n",
    "\n",
    "Example:\n",
    "If the following n is given as input to the program:\n",
    "10\n",
    "Then, the output of the program should be:\n",
    "0,2,4,6,8,10"
   ]
  },
  {
   "cell_type": "code",
   "execution_count": 2,
   "id": "7f315a06",
   "metadata": {},
   "outputs": [
    {
     "name": "stdout",
     "output_type": "stream",
     "text": [
      "Enter a number: 10\n",
      "0,2,4,6,8,10\n"
     ]
    }
   ],
   "source": [
    "def even_numbers(n):\n",
    "    for num in range(n+1):\n",
    "        if num % 2 == 0:\n",
    "            yield num\n",
    "\n",
    "n = int(input(\"Enter a number: \"))\n",
    "result = list(even_numbers(n))\n",
    "output = ','.join(map(str, result))\n",
    "print(output)"
   ]
  },
  {
   "cell_type": "markdown",
   "id": "bb425b24",
   "metadata": {},
   "source": [
    "Question 3:\n",
    "\n",
    "The Fibonacci Sequence is computed based on the following formula:\n",
    "f(n)=0 if n=0\n",
    "f(n)=1 if n=1\n",
    "f(n)=f(n-1)+f(n-2) if n>1\n",
    "Please write a program using list comprehension to print the Fibonacci Sequence in comma separated form with a given n input by console.\n",
    "\n",
    "Example:\n",
    "If the following n is given as input to the program:\n",
    "7\n",
    "\n",
    "Then, the output of the program should be:\n",
    "0,1,1,2,3,5,8,13"
   ]
  },
  {
   "cell_type": "code",
   "execution_count": 24,
   "id": "612af5ef",
   "metadata": {},
   "outputs": [
    {
     "name": "stdout",
     "output_type": "stream",
     "text": [
      "Enter n: 7\n",
      "0, 1, 1, 2, 3, 5, 8\n"
     ]
    }
   ],
   "source": [
    "def fibonacci(n):\n",
    "    if n == 0:\n",
    "        return 0\n",
    "    elif n == 1:\n",
    "        return 1\n",
    "    else:\n",
    "        return fibonacci(n - 1) + fibonacci(n - 2)\n",
    "\n",
    "\n",
    "def main():\n",
    "    n = int(input(\"Enter n: \"))\n",
    "    fibonacci_sequence = [fibonacci(i) for i in range(n)]\n",
    "    print(\", \".join(map(str, fibonacci_sequence)))\n",
    "\n",
    "\n",
    "if __name__ == \"__main__\":\n",
    "    main()\n",
    "\n",
    "\n"
   ]
  },
  {
   "cell_type": "markdown",
   "id": "1b47e706",
   "metadata": {},
   "source": [
    "Question 4:\n",
    "\n",
    "Assuming that we have some email addresses in the \"username@companyname.com\" format, please write program to print the user name of a given email address. Both user names and company names are composed of letters only.\n",
    "\n",
    "Example:\n",
    "If the following email address is given as input to the program:\n",
    "john@google.com\n",
    "Then, the output of the program should be:\n",
    "john"
   ]
  },
  {
   "cell_type": "code",
   "execution_count": 5,
   "id": "3890e4dd",
   "metadata": {},
   "outputs": [
    {
     "name": "stdout",
     "output_type": "stream",
     "text": [
      "Enter an email address: jagat@microsoft.com\n",
      "jagat\n"
     ]
    }
   ],
   "source": [
    "email = input(\"Enter an email address: \")\n",
    "\n",
    "# Find the index of the '@' symbol\n",
    "at_index = email.index('@')\n",
    "\n",
    "# Extract the substring before the '@' symbol as the username\n",
    "username = email[:at_index]\n",
    "\n",
    "print(username)\n"
   ]
  },
  {
   "cell_type": "markdown",
   "id": "e322c816",
   "metadata": {},
   "source": [
    "Question 5:\n",
    "\n",
    "Define a class named Shape and its subclass Square. The Square class has an init function which takes a length as argument. Both classes have a area function which can print the area of the shape where Shape's area is 0 by default.\n"
   ]
  },
  {
   "cell_type": "code",
   "execution_count": 6,
   "id": "d859ce5f",
   "metadata": {},
   "outputs": [
    {
     "name": "stdout",
     "output_type": "stream",
     "text": [
      "Shape Area: 0\n",
      "Square Area: 25\n"
     ]
    }
   ],
   "source": [
    "class Shape:\n",
    "    def __init__(self):\n",
    "        self.area = 0\n",
    "\n",
    "    def calculate_area(self):\n",
    "        pass\n",
    "\n",
    "\n",
    "class Square(Shape):\n",
    "    def __init__(self, length):\n",
    "        super().__init__()\n",
    "        self.length = length\n",
    "\n",
    "    def calculate_area(self):\n",
    "        self.area = self.length ** 2\n",
    "\n",
    "\n",
    "# Create instances of the classes and calculate the areas\n",
    "shape = Shape()\n",
    "square = Square(5)\n",
    "\n",
    "shape.calculate_area()\n",
    "square.calculate_area()\n",
    "\n",
    "print(\"Shape Area:\", shape.area)  # Output: Shape Area: 0\n",
    "print(\"Square Area:\", square.area)  # Output: Square Area: 25"
   ]
  },
  {
   "cell_type": "code",
   "execution_count": null,
   "id": "77fea336",
   "metadata": {},
   "outputs": [],
   "source": []
  }
 ],
 "metadata": {
  "kernelspec": {
   "display_name": "Python 3 (ipykernel)",
   "language": "python",
   "name": "python3"
  },
  "language_info": {
   "codemirror_mode": {
    "name": "ipython",
    "version": 3
   },
   "file_extension": ".py",
   "mimetype": "text/x-python",
   "name": "python",
   "nbconvert_exporter": "python",
   "pygments_lexer": "ipython3",
   "version": "3.9.12"
  }
 },
 "nbformat": 4,
 "nbformat_minor": 5
}
