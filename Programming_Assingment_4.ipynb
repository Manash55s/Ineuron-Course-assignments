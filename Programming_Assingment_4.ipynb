{
 "cells": [
  {
   "cell_type": "markdown",
   "id": "48a29cf9",
   "metadata": {},
   "source": [
    "1.\tWrite a Python Program to Find the Factorial of a Number?"
   ]
  },
  {
   "cell_type": "code",
   "execution_count": 11,
   "id": "218079d9",
   "metadata": {},
   "outputs": [
    {
     "name": "stdout",
     "output_type": "stream",
     "text": [
      "Enter a number: 5\n",
      "The factorial of 5 is 120\n"
     ]
    }
   ],
   "source": [
    "num = int(input(\"Enter a number: \"))\n",
    "factorial = 1\n",
    "\n",
    "# check if the number is negative, zero or positive\n",
    "if num < 0:\n",
    "    print(\"Sorry, factorial does not exist for negative numbers\")\n",
    "elif num == 0:\n",
    "    print(\"The factorial of 0 is 1\")\n",
    "else:\n",
    "    for i in range(1,num + 1):\n",
    "        factorial = factorial*i\n",
    "    print(\"The factorial of\",num,\"is\",factorial)\n"
   ]
  },
  {
   "cell_type": "markdown",
   "id": "8b706314",
   "metadata": {},
   "source": [
    "2.\tWrite a Python Program to Display the multiplication Table?"
   ]
  },
  {
   "cell_type": "code",
   "execution_count": 12,
   "id": "204838a7",
   "metadata": {},
   "outputs": [
    {
     "name": "stdout",
     "output_type": "stream",
     "text": [
      "Enter a number: 5\n",
      "5 x 1 = 5\n",
      "5 x 2 = 10\n",
      "5 x 3 = 15\n",
      "5 x 4 = 20\n",
      "5 x 5 = 25\n",
      "5 x 6 = 30\n",
      "5 x 7 = 35\n",
      "5 x 8 = 40\n",
      "5 x 9 = 45\n",
      "5 x 10 = 50\n"
     ]
    }
   ],
   "source": [
    "num = int(input(\"Enter a number: \"))\n",
    "\n",
    "# iterating 10 times to display multiplication table of num\n",
    "for i in range(1, 11):\n",
    "    print(num, \"x\", i, \"=\", num*i)\n"
   ]
  },
  {
   "cell_type": "markdown",
   "id": "1f57b72d",
   "metadata": {},
   "source": [
    "3.\tWrite a Python Program to Print the Fibonacci sequence?"
   ]
  },
  {
   "cell_type": "code",
   "execution_count": 13,
   "id": "0b666ab9",
   "metadata": {},
   "outputs": [
    {
     "name": "stdout",
     "output_type": "stream",
     "text": [
      "Enter the number of terms: 7\n",
      "0 1 1 2 3 5 8 "
     ]
    }
   ],
   "source": [
    "# function to print the Fibonacci sequence\n",
    "def fibonacci_sequence(n):\n",
    "    # initialize the first two terms\n",
    "    first_term = 0\n",
    "    second_term = 1\n",
    "    # print the first two terms\n",
    "    print(first_term, end=\" \")\n",
    "    print(second_term, end=\" \")\n",
    "    # loop to generate the remaining terms\n",
    "    for i in range(2, n):\n",
    "        # calculate the next term\n",
    "        next_term = first_term + second_term\n",
    "        # print the next term\n",
    "        print(next_term, end=\" \")\n",
    "        # update the first and second terms\n",
    "        first_term = second_term\n",
    "        second_term = next_term\n",
    "\n",
    "# get the number of terms from the user\n",
    "n = int(input(\"Enter the number of terms: \"))\n",
    "# call the function to print the Fibonacci sequence\n",
    "fibonacci_sequence(n)\n"
   ]
  },
  {
   "cell_type": "markdown",
   "id": "bb391d83",
   "metadata": {},
   "source": [
    "4.\tWrite a Python Program to Check Armstrong Number?"
   ]
  },
  {
   "cell_type": "code",
   "execution_count": 14,
   "id": "6da18ffb",
   "metadata": {},
   "outputs": [
    {
     "name": "stdout",
     "output_type": "stream",
     "text": [
      "Enter a number: 153\n",
      "153 is an Armstrong number\n"
     ]
    }
   ],
   "source": [
    "num = int(input(\"Enter a number: \"))\n",
    "sum = 0\n",
    "temp = num\n",
    "order = len(str(num))\n",
    "\n",
    "while temp > 0:\n",
    "    digit = temp % 10\n",
    "    sum += digit ** order\n",
    "    temp //= 10\n",
    "\n",
    "if num == sum:\n",
    "    print(num, \"is an Armstrong number\")\n",
    "else:\n",
    "    print(num, \"is not an Armstrong number\")\n"
   ]
  },
  {
   "cell_type": "markdown",
   "id": "8260b643",
   "metadata": {},
   "source": [
    "5.\tWrite a Python Program to Find Armstrong Number in an Interval?"
   ]
  },
  {
   "cell_type": "code",
   "execution_count": 15,
   "id": "6fec831c",
   "metadata": {},
   "outputs": [
    {
     "name": "stdout",
     "output_type": "stream",
     "text": [
      "153\n",
      "370\n",
      "371\n",
      "407\n"
     ]
    }
   ],
   "source": [
    "# function to check if a number is an Armstrong number\n",
    "def is_armstrong(number):\n",
    "    # calculate the number of digits in the number\n",
    "    num_digits = len(str(number))\n",
    "    # calculate the sum of the digits raised to the power of the number of digits\n",
    "    sum = 0\n",
    "    temp = number\n",
    "    while temp > 0:\n",
    "        digit = temp % 10\n",
    "        sum += digit ** num_digits\n",
    "        temp //= 10\n",
    "    # return True if the number is an Armstrong number, False otherwise\n",
    "    return number == sum\n",
    "\n",
    "# define the interval\n",
    "lower = 100\n",
    "upper = 1000\n",
    "\n",
    "# iterate over the numbers in the interval and check if each is an Armstrong number\n",
    "for number in range(lower, upper + 1):\n",
    "    if is_armstrong(number):\n",
    "        print(number)\n"
   ]
  },
  {
   "cell_type": "markdown",
   "id": "8943d4f1",
   "metadata": {},
   "source": [
    "6.\tWrite a Python Program to Find the Sum of Natural Numbers?"
   ]
  },
  {
   "cell_type": "code",
   "execution_count": 16,
   "id": "c4b7e436",
   "metadata": {},
   "outputs": [
    {
     "name": "stdout",
     "output_type": "stream",
     "text": [
      "Enter a positive integer: 7\n",
      "The sum of natural numbers up to 7 is 28\n"
     ]
    }
   ],
   "source": [
    "num = int(input(\"Enter a positive integer: \"))\n",
    "\n",
    "# initialize sum\n",
    "sum = 0\n",
    "\n",
    "if num < 0:\n",
    "    print(\"Please enter a positive integer.\")\n",
    "else:\n",
    "    # calculate the sum using a for loop\n",
    "    for i in range(1, num + 1):\n",
    "        sum += i\n",
    "\n",
    "    # display the sum\n",
    "    print(\"The sum of natural numbers up to\", num, \"is\", sum)\n"
   ]
  },
  {
   "cell_type": "code",
   "execution_count": null,
   "id": "6b427acf",
   "metadata": {},
   "outputs": [],
   "source": []
  }
 ],
 "metadata": {
  "kernelspec": {
   "display_name": "Python 3 (ipykernel)",
   "language": "python",
   "name": "python3"
  },
  "language_info": {
   "codemirror_mode": {
    "name": "ipython",
    "version": 3
   },
   "file_extension": ".py",
   "mimetype": "text/x-python",
   "name": "python",
   "nbconvert_exporter": "python",
   "pygments_lexer": "ipython3",
   "version": "3.9.12"
  }
 },
 "nbformat": 4,
 "nbformat_minor": 5
}
