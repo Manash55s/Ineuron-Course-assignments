{
 "cells": [
  {
   "cell_type": "markdown",
   "id": "91394168",
   "metadata": {},
   "source": [
    "1.\tWrite a Python Program to Find LCM?"
   ]
  },
  {
   "cell_type": "code",
   "execution_count": 2,
   "id": "64df5f44",
   "metadata": {},
   "outputs": [
    {
     "name": "stdout",
     "output_type": "stream",
     "text": [
      "Enter the first number 64\n",
      "Enter the second number 80\n",
      "320\n"
     ]
    }
   ],
   "source": [
    "x=int(input(\"Enter the first number \"))\n",
    "y=int(input(\"Enter the second number \"))\n",
    "if x > y:\n",
    "   greater = x\n",
    "else:\n",
    "   greater = y\n",
    "\n",
    "while True:\n",
    "   if greater % x == 0 and greater % y == 0:\n",
    "       lcm = greater\n",
    "       break\n",
    "   greater += 1\n",
    "print(lcm)"
   ]
  },
  {
   "cell_type": "markdown",
   "id": "4b653ba3",
   "metadata": {},
   "source": [
    "2.\tWrite a Python Program to Find HCF?"
   ]
  },
  {
   "cell_type": "code",
   "execution_count": 3,
   "id": "eb0bbd17",
   "metadata": {},
   "outputs": [
    {
     "name": "stdout",
     "output_type": "stream",
     "text": [
      "Enter the first number 12\n",
      "Enter the second number 8\n",
      "4\n"
     ]
    }
   ],
   "source": [
    "x=int(input(\"Enter the first number \"))\n",
    "y=int(input(\"Enter the second number \"))\n",
    "if x < y:\n",
    "   lesser = x\n",
    "else:\n",
    "   lesser = y\n",
    "\n",
    "while True:\n",
    "   if x % lesser == 0 and y % lesser == 0:\n",
    "       hcf = lesser\n",
    "       break\n",
    "   lesser -= 1\n",
    "print(hcf)"
   ]
  },
  {
   "cell_type": "markdown",
   "id": "c55e9215",
   "metadata": {},
   "source": [
    "3.\tWrite a Python Program to Convert Decimal to Binary, Octal and Hexadecimal?"
   ]
  },
  {
   "cell_type": "code",
   "execution_count": 5,
   "id": "80a26564",
   "metadata": {},
   "outputs": [
    {
     "name": "stdout",
     "output_type": "stream",
     "text": [
      "Enter a decimal number: 20\n",
      "Binary:  10100\n",
      "Octal:  24\n",
      "Hexadecimal:  14\n"
     ]
    }
   ],
   "source": [
    "dec = int(input(\"Enter a decimal number: \"))\n",
    "\n",
    "# convert decimal to binary\n",
    "binary = bin(dec)[2:]\n",
    "\n",
    "# convert decimal to octal\n",
    "octal = oct(dec)[2:]\n",
    "\n",
    "# convert decimal to hexadecimal\n",
    "hexadecimal = hex(dec)[2:]\n",
    "\n",
    "print(\"Binary: \", binary)\n",
    "print(\"Octal: \", octal)\n",
    "print(\"Hexadecimal: \", hexadecimal)"
   ]
  },
  {
   "cell_type": "markdown",
   "id": "c13fbcdc",
   "metadata": {},
   "source": [
    "4.\tWrite a Python Program To Find ASCII value of a character?"
   ]
  },
  {
   "cell_type": "code",
   "execution_count": 7,
   "id": "3aa20f78",
   "metadata": {},
   "outputs": [
    {
     "name": "stdout",
     "output_type": "stream",
     "text": [
      "Enter a character: o\n",
      "The ASCII value of o is 111.\n"
     ]
    }
   ],
   "source": [
    "# enter the character \n",
    "char = input(\"Enter a character: \")\n",
    "\n",
    "# get ASCII value of the character\n",
    "ascii_value = ord(char)\n",
    "\n",
    "# display the ASCII value\n",
    "print(f\"The ASCII value of {char} is {ascii_value}.\")\n"
   ]
  },
  {
   "cell_type": "markdown",
   "id": "46692606",
   "metadata": {},
   "source": [
    "5.\tWrite a Python Program to Make a Simple Calculator with 4 basic mathematical operations?"
   ]
  },
  {
   "cell_type": "code",
   "execution_count": 8,
   "id": "344d36b6",
   "metadata": {},
   "outputs": [
    {
     "name": "stdout",
     "output_type": "stream",
     "text": [
      "Enter first number: \n",
      "7\n",
      "Enter second number: \n",
      "5\n",
      "Select operation (+, -, *, /): \n",
      "+\n",
      "7.0 + 5.0 = 12.0\n"
     ]
    }
   ],
   "source": [
    "# function to add two numbers\n",
    "def add(x, y):\n",
    "    return x + y\n",
    "\n",
    "# function to subtract two numbers\n",
    "def subtract(x, y):\n",
    "    return x - y\n",
    "\n",
    "# function to multiply two numbers\n",
    "def multiply(x, y):\n",
    "    return x * y\n",
    "\n",
    "# function to divide two numbers\n",
    "def divide(x, y):\n",
    "    return x / y\n",
    "\n",
    "# take input from the user\n",
    "print(\"Enter first number: \")\n",
    "num1 = float(input())\n",
    "print(\"Enter second number: \")\n",
    "num2 = float(input())\n",
    "print(\"Select operation (+, -, *, /): \")\n",
    "operator = input()\n",
    "\n",
    "# perform the desired operation\n",
    "if operator == '+':\n",
    "    print(num1, \"+\", num2, \"=\", add(num1, num2))\n",
    "elif operator == '-':\n",
    "    print(num1, \"-\", num2, \"=\", subtract(num1, num2))\n",
    "elif operator == '*':\n",
    "    print(num1, \"*\", num2, \"=\", multiply(num1, num2))\n",
    "elif operator == '/':\n",
    "    print(num1, \"/\", num2, \"=\", divide(num1, num2))\n",
    "else:\n",
    "    print(\"Invalid operator\")\n"
   ]
  },
  {
   "cell_type": "code",
   "execution_count": 9,
   "id": "83039e93",
   "metadata": {},
   "outputs": [
    {
     "name": "stdout",
     "output_type": "stream",
     "text": [
      "Enter first number: \n",
      "4\n",
      "Enter second number: \n",
      "9\n",
      "Select operation (+, -, *, /): \n",
      "-\n",
      "4.0 - 9.0 = -5.0\n"
     ]
    }
   ],
   "source": [
    "# function to add two numbers\n",
    "def add(x, y):\n",
    "    return x + y\n",
    "\n",
    "# function to subtract two numbers\n",
    "def subtract(x, y):\n",
    "    return x - y\n",
    "\n",
    "# function to multiply two numbers\n",
    "def multiply(x, y):\n",
    "    return x * y\n",
    "\n",
    "# function to divide two numbers\n",
    "def divide(x, y):\n",
    "    return x / y\n",
    "\n",
    "# take input from the user\n",
    "print(\"Enter first number: \")\n",
    "num1 = float(input())\n",
    "print(\"Enter second number: \")\n",
    "num2 = float(input())\n",
    "print(\"Select operation (+, -, *, /): \")\n",
    "operator = input()\n",
    "\n",
    "# perform the desired operation\n",
    "if operator == '+':\n",
    "    print(num1, \"+\", num2, \"=\", add(num1, num2))\n",
    "elif operator == '-':\n",
    "    print(num1, \"-\", num2, \"=\", subtract(num1, num2))\n",
    "elif operator == '*':\n",
    "    print(num1, \"*\", num2, \"=\", multiply(num1, num2))\n",
    "elif operator == '/':\n",
    "    print(num1, \"/\", num2, \"=\", divide(num1, num2))\n",
    "else:\n",
    "    print(\"Invalid operator\")"
   ]
  },
  {
   "cell_type": "code",
   "execution_count": 10,
   "id": "c3b46b90",
   "metadata": {},
   "outputs": [
    {
     "name": "stdout",
     "output_type": "stream",
     "text": [
      "Enter first number: \n",
      "15\n",
      "Enter second number: \n",
      "8\n",
      "Select operation (+, -, *, /): \n",
      "*\n",
      "15.0 * 8.0 = 120.0\n"
     ]
    }
   ],
   "source": [
    "# function to add two numbers\n",
    "def add(x, y):\n",
    "    return x + y\n",
    "\n",
    "# function to subtract two numbers\n",
    "def subtract(x, y):\n",
    "    return x - y\n",
    "\n",
    "# function to multiply two numbers\n",
    "def multiply(x, y):\n",
    "    return x * y\n",
    "\n",
    "# function to divide two numbers\n",
    "def divide(x, y):\n",
    "    return x / y\n",
    "\n",
    "# take input from the user\n",
    "print(\"Enter first number: \")\n",
    "num1 = float(input())\n",
    "print(\"Enter second number: \")\n",
    "num2 = float(input())\n",
    "print(\"Select operation (+, -, *, /): \")\n",
    "operator = input()\n",
    "\n",
    "# perform the desired operation\n",
    "if operator == '+':\n",
    "    print(num1, \"+\", num2, \"=\", add(num1, num2))\n",
    "elif operator == '-':\n",
    "    print(num1, \"-\", num2, \"=\", subtract(num1, num2))\n",
    "elif operator == '*':\n",
    "    print(num1, \"*\", num2, \"=\", multiply(num1, num2))\n",
    "elif operator == '/':\n",
    "    print(num1, \"/\", num2, \"=\", divide(num1, num2))\n",
    "else:\n",
    "    print(\"Invalid operator\")\n"
   ]
  },
  {
   "cell_type": "code",
   "execution_count": 11,
   "id": "d8a4bf19",
   "metadata": {},
   "outputs": [
    {
     "name": "stdout",
     "output_type": "stream",
     "text": [
      "Enter first number: \n",
      "120\n",
      "Enter second number: \n",
      "10\n",
      "Select operation (+, -, *, /): \n",
      "/\n",
      "120.0 / 10.0 = 12.0\n"
     ]
    }
   ],
   "source": [
    "# function to add two numbers\n",
    "def add(x, y):\n",
    "    return x + y\n",
    "\n",
    "# function to subtract two numbers\n",
    "def subtract(x, y):\n",
    "    return x - y\n",
    "\n",
    "# function to multiply two numbers\n",
    "def multiply(x, y):\n",
    "    return x * y\n",
    "\n",
    "# function to divide two numbers\n",
    "def divide(x, y):\n",
    "    return x / y\n",
    "\n",
    "# take input from the user\n",
    "print(\"Enter first number: \")\n",
    "num1 = float(input())\n",
    "print(\"Enter second number: \")\n",
    "num2 = float(input())\n",
    "print(\"Select operation (+, -, *, /): \")\n",
    "operator = input()\n",
    "\n",
    "# perform the desired operation\n",
    "if operator == '+':\n",
    "    print(num1, \"+\", num2, \"=\", add(num1, num2))\n",
    "elif operator == '-':\n",
    "    print(num1, \"-\", num2, \"=\", subtract(num1, num2))\n",
    "elif operator == '*':\n",
    "    print(num1, \"*\", num2, \"=\", multiply(num1, num2))\n",
    "elif operator == '/':\n",
    "    print(num1, \"/\", num2, \"=\", divide(num1, num2))\n",
    "else:\n",
    "    print(\"Invalid operator\")\n"
   ]
  },
  {
   "cell_type": "code",
   "execution_count": null,
   "id": "d5999cec",
   "metadata": {},
   "outputs": [],
   "source": []
  }
 ],
 "metadata": {
  "kernelspec": {
   "display_name": "Python 3 (ipykernel)",
   "language": "python",
   "name": "python3"
  },
  "language_info": {
   "codemirror_mode": {
    "name": "ipython",
    "version": 3
   },
   "file_extension": ".py",
   "mimetype": "text/x-python",
   "name": "python",
   "nbconvert_exporter": "python",
   "pygments_lexer": "ipython3",
   "version": "3.9.12"
  }
 },
 "nbformat": 4,
 "nbformat_minor": 5
}
