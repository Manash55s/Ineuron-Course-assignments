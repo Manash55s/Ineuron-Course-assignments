{
 "cells": [
  {
   "cell_type": "markdown",
   "id": "d12b1098",
   "metadata": {},
   "source": [
    "1.\tWrite a Python Program to Display Fibonacci Sequence Using Recursion?"
   ]
  },
  {
   "cell_type": "code",
   "execution_count": 1,
   "id": "55855964",
   "metadata": {},
   "outputs": [
    {
     "name": "stdout",
     "output_type": "stream",
     "text": [
      "Enter the number of terms: 6\n",
      "Fibonacci sequence:\n",
      "0\n",
      "1\n",
      "1\n",
      "2\n",
      "3\n",
      "5\n"
     ]
    }
   ],
   "source": [
    "def fibonacci(n):\n",
    "    if n <= 1:\n",
    "        return n\n",
    "    else:\n",
    "        return fibonacci(n-1) + fibonacci(n-2)\n",
    "\n",
    "# take input from the user\n",
    "terms = int(input(\"Enter the number of terms: \"))\n",
    "\n",
    "# check if the number of terms is valid\n",
    "if terms <= 0:\n",
    "    print(\"Please enter a positive integer\")\n",
    "else:\n",
    "    print(\"Fibonacci sequence:\")\n",
    "    for i in range(terms):\n",
    "        print(fibonacci(i))\n"
   ]
  },
  {
   "cell_type": "markdown",
   "id": "c67c7199",
   "metadata": {},
   "source": [
    "2.\tWrite a Python Program to Find Factorial of Number Using Recursion?"
   ]
  },
  {
   "cell_type": "code",
   "execution_count": 1,
   "id": "483e8eaf",
   "metadata": {},
   "outputs": [
    {
     "name": "stdout",
     "output_type": "stream",
     "text": [
      "Enter the number of terms: 4\n",
      "Factorial of 4: 24\n"
     ]
    }
   ],
   "source": [
    "def factorial(n):\n",
    "    if n == 1:\n",
    "        return n\n",
    "    else:\n",
    "        return n*factorial(n-1)\n",
    "\n",
    "# take input from the user\n",
    "terms = int(input(\"Enter the number of terms: \"))\n",
    "\n",
    "# check if the number of terms is valid\n",
    "if terms < 0:\n",
    "    print(\"Please enter a positive integer\")\n",
    "elif terms == 0:\n",
    "    print(\"Factorial of 0 is 1.\")\n",
    "else:\n",
    "    print(f\"Factorial of {terms}: {factorial(terms)}\")\n"
   ]
  },
  {
   "cell_type": "markdown",
   "id": "ee623f1a",
   "metadata": {},
   "source": [
    "3.\tWrite a Python Program to calculate your Body Mass Index?"
   ]
  },
  {
   "cell_type": "code",
   "execution_count": 6,
   "id": "9decbcd3",
   "metadata": {},
   "outputs": [
    {
     "name": "stdout",
     "output_type": "stream",
     "text": [
      "Enter your height in meters: 1.67\n",
      "Enter your weight in kilograms: 65\n",
      "Your Body Mass Index (BMI) is: 23.31\n"
     ]
    }
   ],
   "source": [
    "height = float(input(\"Enter your height in meters: \"))\n",
    "weight = float(input(\"Enter your weight in kilograms: \"))\n",
    "\n",
    "bmi = weight / (height ** 2)\n",
    "\n",
    "print(\"Your Body Mass Index (BMI) is:\", round(bmi, 2))\n"
   ]
  },
  {
   "cell_type": "markdown",
   "id": "c15b372a",
   "metadata": {},
   "source": [
    "4.\tWrite a Python Program to calculate the natural logarithm of any number?"
   ]
  },
  {
   "cell_type": "code",
   "execution_count": 13,
   "id": "1d08ac46",
   "metadata": {},
   "outputs": [
    {
     "name": "stdout",
     "output_type": "stream",
     "text": [
      "The natural logarithm of 2 is approximately 0.6921481805579461\n"
     ]
    }
   ],
   "source": [
    "def natural_logarithm(x,n):\n",
    "    result = 0\n",
    "    sign = 1\n",
    "    for i in range(1, n+1):\n",
    "        term = ((x-1)**i)/i  # ln(x) = (x - 1) - (x - 1)^2/2 + (x - 1)^3/3 - (x - 1)^4/4 + ...\n",
    "        result += sign*term\n",
    "        sign *= -1\n",
    "    return result\n",
    "\n",
    "# example\n",
    "x = 2\n",
    "n = 500\n",
    "ln_x = natural_logarithm(x, n)\n",
    "print(f\"The natural logarithm of {x} is approximately {ln_x}\")\n"
   ]
  },
  {
   "cell_type": "markdown",
   "id": "1e865edc",
   "metadata": {},
   "source": [
    "5.\tWrite a Python Program for cube sum of first n natural numbers?"
   ]
  },
  {
   "cell_type": "code",
   "execution_count": 15,
   "id": "0cd4d95f",
   "metadata": {},
   "outputs": [
    {
     "name": "stdout",
     "output_type": "stream",
     "text": [
      "Enter the value of n: 3\n",
      "The cube sum of first 3 natural numbers is: 36\n"
     ]
    }
   ],
   "source": [
    "n = int(input(\"Enter the value of n: \"))\n",
    "\n",
    "# calculate sum of first n natural numbers\n",
    "sum_of_numbers = (n * (n + 1)) // 2\n",
    "\n",
    "# calculate cube sum of first n natural numbers\n",
    "cube_sum = sum_of_numbers ** 2\n",
    "\n",
    "print(\"The cube sum of first\", n, \"natural numbers is:\", cube_sum)\n"
   ]
  }
 ],
 "metadata": {
  "kernelspec": {
   "display_name": "Python 3 (ipykernel)",
   "language": "python",
   "name": "python3"
  },
  "language_info": {
   "codemirror_mode": {
    "name": "ipython",
    "version": 3
   },
   "file_extension": ".py",
   "mimetype": "text/x-python",
   "name": "python",
   "nbconvert_exporter": "python",
   "pygments_lexer": "ipython3",
   "version": "3.9.12"
  }
 },
 "nbformat": 4,
 "nbformat_minor": 5
}
