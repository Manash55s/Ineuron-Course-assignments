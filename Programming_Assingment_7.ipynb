{
 "cells": [
  {
   "cell_type": "markdown",
   "id": "400b8aa0",
   "metadata": {},
   "source": [
    "1.\tWrite a Python Program to find sum of array?\n",
    "(arrays are a collection of elements of the same data type, stored in contiguous memory locations, which can be accessed using their index values)"
   ]
  },
  {
   "cell_type": "code",
   "execution_count": 1,
   "id": "204c5ca4",
   "metadata": {},
   "outputs": [
    {
     "name": "stdout",
     "output_type": "stream",
     "text": [
      "The sum of the array is: 27\n"
     ]
    }
   ],
   "source": [
    "# initialize the array\n",
    "arr = [5, 2, 7, 9, 4]\n",
    "\n",
    "# initialize the sum variable to 0\n",
    "sum = 0\n",
    "\n",
    "# loop through the array and add each element to the sum\n",
    "for i in arr:\n",
    "    sum += i\n",
    "\n",
    "# print the sum of the array\n",
    "print(\"The sum of the array is:\", sum)\n"
   ]
  },
  {
   "cell_type": "markdown",
   "id": "2506589e",
   "metadata": {},
   "source": [
    "2.\tWrite a Python Program to find largest element in an array?"
   ]
  },
  {
   "cell_type": "code",
   "execution_count": 2,
   "id": "8c44e605",
   "metadata": {},
   "outputs": [
    {
     "name": "stdout",
     "output_type": "stream",
     "text": [
      "9\n"
     ]
    }
   ],
   "source": [
    "# initialize the array\n",
    "arr = [5, 2, 7, 9, 4]\n",
    "\n",
    "# initialize the big variable to 0\n",
    "big = 0\n",
    "\n",
    "# loop through the array to find out the biggest element\n",
    "for i in arr:\n",
    "    if i>big:\n",
    "        big=i\n",
    "    else:\n",
    "        pass\n",
    "print(big)"
   ]
  },
  {
   "cell_type": "markdown",
   "id": "390f3f4f",
   "metadata": {},
   "source": [
    "3.\tWrite a Python Program for array rotation?"
   ]
  },
  {
   "cell_type": "code",
   "execution_count": 3,
   "id": "f9be06cd",
   "metadata": {},
   "outputs": [
    {
     "data": {
      "text/plain": [
       "[9, 4, 5, 2, 7]"
      ]
     },
     "execution_count": 3,
     "metadata": {},
     "output_type": "execute_result"
    }
   ],
   "source": [
    "def left_rotate(arr, n):\n",
    "    \"\"\"\n",
    "    Perform a left rotation of an array by n positions.\n",
    "    \"\"\"\n",
    "    # Determine the length of the array\n",
    "    length = len(arr)\n",
    "\n",
    "    # Perform the rotation\n",
    "    rotated = [arr[(i + n) % length] for i in range(length)]\n",
    "\n",
    "    # Return the rotated array\n",
    "    return rotated\n",
    "\n",
    "arry = [5, 2, 7, 9, 4]\n",
    "left_rotate(arry,3)\n",
    "\n"
   ]
  },
  {
   "cell_type": "code",
   "execution_count": 9,
   "id": "6f885673",
   "metadata": {},
   "outputs": [
    {
     "data": {
      "text/plain": [
       "[7, 9, 4, 5, 2]"
      ]
     },
     "execution_count": 9,
     "metadata": {},
     "output_type": "execute_result"
    }
   ],
   "source": [
    "def right_rotate(arr, n):\n",
    "    \"\"\"\n",
    "    Perform a right rotation of an array by n positions.\n",
    "    \"\"\"\n",
    "    # Determine the length of the array\n",
    "    length = len(arr)\n",
    "\n",
    "    # Perform the rotation\n",
    "    rotated = [arr[(i - n) % length] for i in range(length)]\n",
    "\n",
    "    # Return the rotated array\n",
    "    return rotated\n",
    "\n",
    "arry = [5, 2, 7, 9, 4]\n",
    "right_rotate(arry,3)"
   ]
  },
  {
   "cell_type": "markdown",
   "id": "dc31f824",
   "metadata": {},
   "source": [
    "4.\tWrite a Python Program to Split the array and add the first part to the end?"
   ]
  },
  {
   "cell_type": "code",
   "execution_count": 13,
   "id": "757cdcf7",
   "metadata": {},
   "outputs": [
    {
     "name": "stdout",
     "output_type": "stream",
     "text": [
      "Original array: [1, 2, 3, 4, 5]\n",
      "n = 2\n",
      "Array after splitting and adding the first part to the end: [3, 4, 5, 1, 2]\n"
     ]
    }
   ],
   "source": [
    "def split_and_add(arr, n):\n",
    "    # split the array at index n and add the first part to the end\n",
    "    return arr[n:] + arr[:n]\n",
    "\n",
    "# example usage\n",
    "arr = [1, 2, 3, 4, 5]\n",
    "n = 2\n",
    "print(\"Original array:\", arr)\n",
    "print(\"n =\", n)\n",
    "print(\"Array after splitting and adding the first part to the end:\", split_and_add(arr, n))"
   ]
  },
  {
   "cell_type": "markdown",
   "id": "d5ad24bd",
   "metadata": {},
   "source": [
    "5.\tWrite a Python Program to check if given array is Monotonic?"
   ]
  },
  {
   "cell_type": "code",
   "execution_count": 14,
   "id": "a4b85c6c",
   "metadata": {},
   "outputs": [
    {
     "name": "stdout",
     "output_type": "stream",
     "text": [
      "True\n",
      "True\n",
      "False\n"
     ]
    }
   ],
   "source": [
    "def is_monotonic(arr):\n",
    "    # Check if the array is non-increasing or non-decreasing\n",
    "    return all(arr[i] <= arr[i+1] for i in range(len(arr)-1)) or all(arr[i] >= arr[i+1] for i in range(len(arr)-1))\n",
    "\n",
    "# Example usage\n",
    "arr1 = [1, 2, 3, 4, 5] # Monotonic increasing\n",
    "arr2 = [5, 4, 3, 2, 1] # Monotonic decreasing\n",
    "arr3 = [1, 2, 3, 2, 1] # Not monotonic\n",
    "\n",
    "print(is_monotonic(arr1))\n",
    "print(is_monotonic(arr2))\n",
    "print(is_monotonic(arr3))\n"
   ]
  },
  {
   "cell_type": "code",
   "execution_count": null,
   "id": "55cb7805",
   "metadata": {},
   "outputs": [],
   "source": []
  }
 ],
 "metadata": {
  "kernelspec": {
   "display_name": "Python 3 (ipykernel)",
   "language": "python",
   "name": "python3"
  },
  "language_info": {
   "codemirror_mode": {
    "name": "ipython",
    "version": 3
   },
   "file_extension": ".py",
   "mimetype": "text/x-python",
   "name": "python",
   "nbconvert_exporter": "python",
   "pygments_lexer": "ipython3",
   "version": "3.9.12"
  }
 },
 "nbformat": 4,
 "nbformat_minor": 5
}
