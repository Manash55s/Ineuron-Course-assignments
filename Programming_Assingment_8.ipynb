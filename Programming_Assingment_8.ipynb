{
 "cells": [
  {
   "cell_type": "markdown",
   "id": "520d523a",
   "metadata": {},
   "source": [
    "1.\tWrite a Python Program to Add Two Matrices?"
   ]
  },
  {
   "cell_type": "code",
   "execution_count": 3,
   "id": "6473edfa",
   "metadata": {},
   "outputs": [
    {
     "name": "stdout",
     "output_type": "stream",
     "text": [
      "[[10, 10, 10], [10, 10, 10], [10, 10, 10]]\n"
     ]
    }
   ],
   "source": [
    "def add_matrices(mat1, mat2):\n",
    "    \"\"\"\n",
    "    Add two matrices of the same size.\n",
    "    \"\"\"\n",
    "    # Determine the dimensions of the matrices\n",
    "    m = len(mat1)\n",
    "    n = len(mat1[0])\n",
    "\n",
    "    # Create a new matrix to store the result\n",
    "    result = [[0 for j in range(n)] for i in range(m)]\n",
    "\n",
    "    # Add the corresponding elements of the two matrices\n",
    "    for i in range(m):\n",
    "        for j in range(n):\n",
    "            result[i][j] = mat1[i][j] + mat2[i][j]\n",
    "\n",
    "    # Return the result\n",
    "    return result\n",
    "matrix1 = [[1, 2, 3],\n",
    "           [4, 5, 6],\n",
    "           [7, 8, 9]]\n",
    "\n",
    "matrix2 = [[9, 8, 7],\n",
    "           [6, 5, 4],\n",
    "           [3, 2, 1]]\n",
    "\n",
    "result = add_matrices(matrix1, matrix2)\n",
    "print(result)\n"
   ]
  },
  {
   "cell_type": "markdown",
   "id": "43ef028f",
   "metadata": {},
   "source": [
    "2.\tWrite a Python Program to Multiply Two Matrices?"
   ]
  },
  {
   "cell_type": "code",
   "execution_count": 6,
   "id": "eb835f60",
   "metadata": {},
   "outputs": [
    {
     "name": "stdout",
     "output_type": "stream",
     "text": [
      "[58, 64]\n",
      "[139, 154]\n"
     ]
    }
   ],
   "source": [
    " def multiply_matrices(matrix1, matrix2):\n",
    "    # Get the dimensions of the matrices\n",
    "    rows1, cols1 = len(matrix1), len(matrix1[0])\n",
    "    rows2, cols2 = len(matrix2), len(matrix2[0])\n",
    "\n",
    "    # Check if the matrices can be multiplied\n",
    "    if cols1 != rows2:\n",
    "        return \"Matrices cannot be multiplied\"\n",
    "\n",
    "    # Create a new matrix to hold the result\n",
    "    result = [[0 for j in range(cols2)] for i in range(rows1)]\n",
    "\n",
    "    # Multiply the matrices\n",
    "    for i in range(rows1):\n",
    "        for j in range(cols2):\n",
    "            for k in range(cols1):\n",
    "                result[i][j] += matrix1[i][k] * matrix2[k][j]\n",
    "\n",
    "    return result\n",
    "\n",
    "#example\n",
    "\n",
    "matrix1 = [[1, 2, 3], [4, 5, 6]]\n",
    "matrix2 = [[7, 8], [9, 10], [11, 12]]\n",
    "\n",
    "product = multiply_matrices(matrix1, matrix2)\n",
    "\n",
    "if product != \"Matrices cannot be multiplied\":\n",
    "    for row in product:\n",
    "        print(row)\n"
   ]
  },
  {
   "cell_type": "markdown",
   "id": "2288923f",
   "metadata": {},
   "source": [
    "3.\tWrite a Python Program to Transpose a Matrix?"
   ]
  },
  {
   "cell_type": "code",
   "execution_count": 8,
   "id": "0bf499e4",
   "metadata": {},
   "outputs": [
    {
     "name": "stdout",
     "output_type": "stream",
     "text": [
      "[[1, 4, 7], [2, 5, 8], [3, 6, 9]]\n"
     ]
    }
   ],
   "source": [
    "def trans_matrices(mat1):\n",
    "\n",
    "    # Determine the dimensions of the matrices\n",
    "    m = len(mat1)\n",
    "    n = len(mat1[0])\n",
    "\n",
    "    # Create a new matrix to hold the transpose of the input matrix\n",
    "    transpose = [[0 for j in range(n)] for i in range(m)]\n",
    "\n",
    "    # Transpose the input matrix\n",
    "    for i in range(m):\n",
    "        for j in range(n):\n",
    "            transpose[i][j] = mat1[j][i]\n",
    "\n",
    "    # Return the result\n",
    "    return transpose\n",
    "\n",
    "#Example\n",
    "matrix1 = [[1, 2, 3],\n",
    "           [4, 5, 6],\n",
    "           [7, 8, 9]]\n",
    "\n",
    "transpose = trans_matrices(matrix1)\n",
    "print(transpose)"
   ]
  },
  {
   "cell_type": "markdown",
   "id": "200d2559",
   "metadata": {},
   "source": [
    "4.\tWrite a Python Program to Sort Words in Alphabetic Order?"
   ]
  },
  {
   "cell_type": "code",
   "execution_count": 10,
   "id": "0c77f08e",
   "metadata": {},
   "outputs": [
    {
     "name": "stdout",
     "output_type": "stream",
     "text": [
      "I am hello ineuron\n"
     ]
    }
   ],
   "source": [
    "def sort_words_alphabetically(sentence):\n",
    "    # Split the sentence into words\n",
    "    words = sentence.split()\n",
    "\n",
    "    # Sort the words in alphabetical order\n",
    "    sorted_words = sorted(words)\n",
    "\n",
    "    # Join the sorted words to form a new sentence\n",
    "    sorted_sentence = \" \".join(sorted_words)\n",
    "\n",
    "    return sorted_sentence\n",
    "\n",
    "# Example\n",
    "sentence = \"hello I am ineuron\"\n",
    "sorted_sentence = sort_words_alphabetically(sentence)\n",
    "print(sorted_sentence) \n"
   ]
  },
  {
   "cell_type": "markdown",
   "id": "6108475f",
   "metadata": {},
   "source": [
    "5.\tWrite a Python Program to Remove Punctuation From a String?"
   ]
  },
  {
   "cell_type": "code",
   "execution_count": 11,
   "id": "20ba172a",
   "metadata": {},
   "outputs": [
    {
     "name": "stdout",
     "output_type": "stream",
     "text": [
      "Hello Ineuron will you help me learning ANN \n"
     ]
    }
   ],
   "source": [
    "import string\n",
    "\n",
    "def remove_punctuation(input_string):\n",
    "    \n",
    "    # Create a translation table to remove punctuation\n",
    "    translator = str.maketrans('', '', string.punctuation)\n",
    "\n",
    "    # Remove punctuation using the translation table\n",
    "    no_punct = input_string.translate(translator)\n",
    "    \n",
    "    return no_punct\n",
    "\n",
    "# Example usage\n",
    "input_str = \"Hello, Ineuron! will you help me learning ANN? \"\n",
    "output_str = remove_punctuation(input_str)\n",
    "print(output_str) \n"
   ]
  }
 ],
 "metadata": {
  "kernelspec": {
   "display_name": "Python 3 (ipykernel)",
   "language": "python",
   "name": "python3"
  },
  "language_info": {
   "codemirror_mode": {
    "name": "ipython",
    "version": 3
   },
   "file_extension": ".py",
   "mimetype": "text/x-python",
   "name": "python",
   "nbconvert_exporter": "python",
   "pygments_lexer": "ipython3",
   "version": "3.9.12"
  }
 },
 "nbformat": 4,
 "nbformat_minor": 5
}
