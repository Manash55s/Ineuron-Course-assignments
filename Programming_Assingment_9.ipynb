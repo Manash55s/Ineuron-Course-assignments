{
 "cells": [
  {
   "cell_type": "markdown",
   "id": "e35b421f",
   "metadata": {},
   "source": [
    "1.\tWrite a Python program to check if the given number is a Disarium Number?"
   ]
  },
  {
   "cell_type": "code",
   "execution_count": 7,
   "id": "85e67541",
   "metadata": {},
   "outputs": [
    {
     "name": "stdout",
     "output_type": "stream",
     "text": [
      "True\n",
      "False\n"
     ]
    }
   ],
   "source": [
    "def is_disarium(num):\n",
    "    \"\"\"\n",
    "    Check if the given number is a Disarium number.\n",
    "    \"\"\"\n",
    "    # Convert the number to a string to iterate over its digits\n",
    "    num_str = str(num)\n",
    "\n",
    "    # Calculate the sum of the digits raised to their respective positions\n",
    "    sum = 0\n",
    "    for i in range(len(num_str)):\n",
    "        digit = int(num_str[i])\n",
    "        sum += digit**(i+1)\n",
    "\n",
    "    # Check if the sum is equal to the number\n",
    "    if sum == num:\n",
    "        return True\n",
    "    else:\n",
    "        return False\n",
    "\n",
    "# Example\n",
    "num1 = 175\n",
    "num2 = 139\n",
    "\n",
    "print(is_disarium(num1))\n",
    "print(is_disarium(num2)) \n"
   ]
  },
  {
   "cell_type": "markdown",
   "id": "2ddd6967",
   "metadata": {},
   "source": [
    "2.\tWrite a Python program to print all disarium numbers between 1 to 100?"
   ]
  },
  {
   "cell_type": "code",
   "execution_count": 8,
   "id": "a3889e4d",
   "metadata": {},
   "outputs": [
    {
     "name": "stdout",
     "output_type": "stream",
     "text": [
      "1\n",
      "2\n",
      "3\n",
      "4\n",
      "5\n",
      "6\n",
      "7\n",
      "8\n",
      "9\n",
      "89\n"
     ]
    }
   ],
   "source": [
    "def is_disarium(num):\n",
    "    \"\"\"\n",
    "    Checks if a number is a disarium number.\n",
    "    \"\"\"\n",
    "    sum = 0\n",
    "    for i, digit in enumerate(str(num)):\n",
    "        sum += int(digit) ** (i+1)\n",
    "    return sum == num\n",
    "\n",
    "# Find all the disarium numbers between 1 and 100\n",
    "for i in range(1, 101):\n",
    "    if is_disarium(i):\n",
    "        print(i)\n"
   ]
  },
  {
   "cell_type": "markdown",
   "id": "2b827c28",
   "metadata": {},
   "source": [
    "3.\tWrite a Python program to check if the given number is Happy Number?"
   ]
  },
  {
   "cell_type": "code",
   "execution_count": 11,
   "id": "b43c5371",
   "metadata": {},
   "outputs": [
    {
     "data": {
      "text/plain": [
       "True"
      ]
     },
     "execution_count": 11,
     "metadata": {},
     "output_type": "execute_result"
    }
   ],
   "source": [
    "def is_happy_number(n):\n",
    "    \"\"\"\n",
    "    Check if a number is a happy number.\n",
    "    \"\"\"\n",
    "    # Keep track of previously seen numbers\n",
    "    seen = set()\n",
    "    \n",
    "    # Continue until we have seen the same number twice\n",
    "    while n not in seen:\n",
    "        # Add the number to the seen set\n",
    "        seen.add(n)\n",
    "        # Compute the sum of the square of each digit\n",
    "        n = sum(int(digit)**2 for digit in str(n))\n",
    "        \n",
    "    # If we have reached 1, then it's a happy number\n",
    "    return n == 1\n",
    "\n",
    "is_happy_number(7)\n"
   ]
  },
  {
   "cell_type": "markdown",
   "id": "0f5eb344",
   "metadata": {},
   "source": [
    "4.\tWrite a Python program to print all happy numbers between 1 and 100?"
   ]
  },
  {
   "cell_type": "code",
   "execution_count": 10,
   "id": "fd893860",
   "metadata": {},
   "outputs": [
    {
     "name": "stdout",
     "output_type": "stream",
     "text": [
      "1\n",
      "7\n",
      "10\n",
      "13\n",
      "19\n",
      "23\n",
      "28\n",
      "31\n",
      "32\n",
      "44\n",
      "49\n",
      "68\n",
      "70\n",
      "79\n",
      "82\n",
      "86\n",
      "91\n",
      "94\n",
      "97\n",
      "100\n"
     ]
    }
   ],
   "source": [
    "def is_happy_number(n):\n",
    "    \"\"\"\n",
    "    Check if a number is a happy number.\n",
    "    \"\"\"\n",
    "    # Keep track of previously seen numbers\n",
    "    seen = set()\n",
    "    \n",
    "    # Continue until we have seen the same number twice\n",
    "    while n not in seen:\n",
    "        # Add the number to the seen set\n",
    "        seen.add(n)\n",
    "        # Compute the sum of the square of each digit\n",
    "        n = sum(int(digit)**2 for digit in str(n))\n",
    "        \n",
    "    # If we have reached 1, then it's a happy number\n",
    "    return n == 1\n",
    "\n",
    "#example\n",
    "for i in range(1, 101):\n",
    "    if is_happy_number(i):\n",
    "        print(i)"
   ]
  },
  {
   "cell_type": "markdown",
   "id": "ed1dc451",
   "metadata": {},
   "source": [
    "5.\tWrite a Python program to determine whether the given number is a Harshad Number?"
   ]
  },
  {
   "cell_type": "code",
   "execution_count": 12,
   "id": "a19e785c",
   "metadata": {},
   "outputs": [
    {
     "name": "stdout",
     "output_type": "stream",
     "text": [
      "True\n",
      "False\n"
     ]
    }
   ],
   "source": [
    "def is_harshad_number(num):\n",
    "    # Convert the number to a string and calculate the sum of its digits\n",
    "    sum_of_digits = sum(int(digit) for digit in str(num))\n",
    "\n",
    "    # Check if the number is divisible by the sum of its digits\n",
    "    return num % sum_of_digits == 0\n",
    "\n",
    "# Example\n",
    "print(is_harshad_number(18)) \n",
    "print(is_harshad_number(19)) \n"
   ]
  },
  {
   "cell_type": "markdown",
   "id": "1da7087c",
   "metadata": {},
   "source": [
    "6.\tWrite a Python program to print all pronic numbers between 1 and 100?"
   ]
  },
  {
   "cell_type": "code",
   "execution_count": 13,
   "id": "fff57bc7",
   "metadata": {},
   "outputs": [
    {
     "name": "stdout",
     "output_type": "stream",
     "text": [
      "2\n",
      "6\n",
      "12\n",
      "20\n",
      "30\n",
      "42\n",
      "56\n",
      "72\n",
      "90\n"
     ]
    }
   ],
   "source": [
    "# Function to check if a number is pronic\n",
    "def is_pronic(num):\n",
    "    for i in range(num):\n",
    "        if i * (i + 1) == num:\n",
    "            return True\n",
    "    return False\n",
    "\n",
    "# print all pronic numbers between 1 and 100\n",
    "for i in range(1, 101):\n",
    "    if is_pronic(i):\n",
    "        print(i)\n"
   ]
  }
 ],
 "metadata": {
  "kernelspec": {
   "display_name": "Python 3 (ipykernel)",
   "language": "python",
   "name": "python3"
  },
  "language_info": {
   "codemirror_mode": {
    "name": "ipython",
    "version": 3
   },
   "file_extension": ".py",
   "mimetype": "text/x-python",
   "name": "python",
   "nbconvert_exporter": "python",
   "pygments_lexer": "ipython3",
   "version": "3.9.12"
  }
 },
 "nbformat": 4,
 "nbformat_minor": 5
}
